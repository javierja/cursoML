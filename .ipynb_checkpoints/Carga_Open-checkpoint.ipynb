{
 "cells": [
  {
   "cell_type": "markdown",
   "metadata": {},
   "source": [
    "# Carga de datos a traves de la funcion Open"
   ]
  },
  {
   "cell_type": "code",
   "execution_count": 1,
   "metadata": {
    "ExecuteTime": {
     "end_time": "2019-05-27T18:35:06.250880Z",
     "start_time": "2019-05-27T18:35:06.236871Z"
    }
   },
   "outputs": [],
   "source": [
    "mainpath=\"/Users/jaldoj/Documents/Developer/python-ml-course/datasets\""
   ]
  },
  {
   "cell_type": "code",
   "execution_count": 3,
   "metadata": {
    "ExecuteTime": {
     "end_time": "2019-05-24T20:43:43.727983Z",
     "start_time": "2019-05-24T20:43:43.723981Z"
    }
   },
   "outputs": [],
   "source": [
    "df=open(mainpath+\"/titanic/titanic3.csv\",\"r\")"
   ]
  },
  {
   "cell_type": "code",
   "execution_count": 4,
   "metadata": {
    "ExecuteTime": {
     "end_time": "2019-05-24T20:43:47.487784Z",
     "start_time": "2019-05-24T20:43:47.483774Z"
    }
   },
   "outputs": [],
   "source": [
    "cols=df.readline().strip().split(\",\")"
   ]
  },
  {
   "cell_type": "code",
   "execution_count": 4,
   "metadata": {
    "ExecuteTime": {
     "end_time": "2019-05-24T20:03:57.039562Z",
     "start_time": "2019-05-24T20:03:57.029054Z"
    }
   },
   "outputs": [
    {
     "data": {
      "text/plain": [
       "['pclass',\n",
       " 'survived',\n",
       " 'name',\n",
       " 'sex',\n",
       " 'age',\n",
       " 'sibsp',\n",
       " 'parch',\n",
       " 'ticket',\n",
       " 'fare',\n",
       " 'cabin',\n",
       " 'embarked',\n",
       " 'boat',\n",
       " 'body',\n",
       " 'home.dest']"
      ]
     },
     "execution_count": 4,
     "metadata": {},
     "output_type": "execute_result"
    }
   ],
   "source": [
    "cols"
   ]
  },
  {
   "cell_type": "code",
   "execution_count": 6,
   "metadata": {
    "ExecuteTime": {
     "end_time": "2019-05-24T20:44:20.350000Z",
     "start_time": "2019-05-24T20:44:20.347999Z"
    }
   },
   "outputs": [],
   "source": [
    "n_cols=len(cols)"
   ]
  },
  {
   "cell_type": "code",
   "execution_count": 6,
   "metadata": {
    "ExecuteTime": {
     "end_time": "2019-05-24T20:05:39.032092Z",
     "start_time": "2019-05-24T20:05:39.028091Z"
    }
   },
   "outputs": [
    {
     "data": {
      "text/plain": [
       "14"
      ]
     },
     "execution_count": 6,
     "metadata": {},
     "output_type": "execute_result"
    }
   ],
   "source": [
    "n_cols"
   ]
  },
  {
   "cell_type": "code",
   "execution_count": 7,
   "metadata": {
    "ExecuteTime": {
     "end_time": "2019-05-24T20:16:48.660767Z",
     "start_time": "2019-05-24T20:16:48.656764Z"
    }
   },
   "outputs": [
    {
     "ename": "SyntaxError",
     "evalue": "Missing parentheses in call to 'print'. Did you mean print(n_cols)? (<ipython-input-7-e1ce78586fa9>, line 1)",
     "output_type": "error",
     "traceback": [
      "\u001b[1;36m  File \u001b[1;32m\"<ipython-input-7-e1ce78586fa9>\"\u001b[1;36m, line \u001b[1;32m1\u001b[0m\n\u001b[1;33m    print n_cols\u001b[0m\n\u001b[1;37m               ^\u001b[0m\n\u001b[1;31mSyntaxError\u001b[0m\u001b[1;31m:\u001b[0m Missing parentheses in call to 'print'. Did you mean print(n_cols)?\n"
     ]
    }
   ],
   "source": [
    "print n_cols"
   ]
  },
  {
   "cell_type": "code",
   "execution_count": 8,
   "metadata": {
    "ExecuteTime": {
     "end_time": "2019-05-24T20:17:24.807432Z",
     "start_time": "2019-05-24T20:17:24.799427Z"
    }
   },
   "outputs": [
    {
     "name": "stdout",
     "output_type": "stream",
     "text": [
      "14\n"
     ]
    }
   ],
   "source": [
    "print(n_cols)"
   ]
  },
  {
   "cell_type": "code",
   "execution_count": 9,
   "metadata": {
    "ExecuteTime": {
     "end_time": "2019-05-24T20:21:02.641662Z",
     "start_time": "2019-05-24T20:21:02.636660Z"
    }
   },
   "outputs": [],
   "source": [
    "counter=0\n",
    "main_dict={}\n",
    "for col in cols:\n",
    "    main_dict[col]=[]"
   ]
  },
  {
   "cell_type": "code",
   "execution_count": 10,
   "metadata": {
    "ExecuteTime": {
     "end_time": "2019-05-24T20:31:43.574213Z",
     "start_time": "2019-05-24T20:31:43.569212Z"
    }
   },
   "outputs": [
    {
     "ename": "SyntaxError",
     "evalue": "invalid syntax (<ipython-input-10-d7491cadc0a4>, line 1)",
     "output_type": "error",
     "traceback": [
      "\u001b[1;36m  File \u001b[1;32m\"<ipython-input-10-d7491cadc0a4>\"\u001b[1;36m, line \u001b[1;32m1\u001b[0m\n\u001b[1;33m    for line in df\u001b[0m\n\u001b[1;37m                  ^\u001b[0m\n\u001b[1;31mSyntaxError\u001b[0m\u001b[1;31m:\u001b[0m invalid syntax\n"
     ]
    }
   ],
   "source": [
    "for line in df\n",
    "   values=line.strip().split(\",\")\n",
    "    for i in range (len(cols)):\n",
    "        main_dict[cols[i]].append(values[i])\n",
    "        counter+= 1\n",
    "        print (\"El dataset tiene d% filas y d% columnas\"%(counter,n_cols))"
   ]
  },
  {
   "cell_type": "code",
   "execution_count": 11,
   "metadata": {
    "ExecuteTime": {
     "end_time": "2019-05-24T20:32:18.343302Z",
     "start_time": "2019-05-24T20:32:18.337297Z"
    }
   },
   "outputs": [
    {
     "ename": "IndentationError",
     "evalue": "unexpected indent (<ipython-input-11-76db84546e4a>, line 3)",
     "output_type": "error",
     "traceback": [
      "\u001b[1;36m  File \u001b[1;32m\"<ipython-input-11-76db84546e4a>\"\u001b[1;36m, line \u001b[1;32m3\u001b[0m\n\u001b[1;33m    for i in range (len(cols)):\u001b[0m\n\u001b[1;37m    ^\u001b[0m\n\u001b[1;31mIndentationError\u001b[0m\u001b[1;31m:\u001b[0m unexpected indent\n"
     ]
    }
   ],
   "source": [
    "for line in df:\n",
    "   values=line.strip().split(\",\")\n",
    "    for i in range (len(cols)):\n",
    "        main_dict[cols[i]].append(values[i])\n",
    "        counter+= 1\n",
    "        print (\"El dataset tiene d% filas y d% columnas\"%(counter,n_cols))"
   ]
  },
  {
   "cell_type": "code",
   "execution_count": 12,
   "metadata": {
    "ExecuteTime": {
     "end_time": "2019-05-24T20:35:37.309813Z",
     "start_time": "2019-05-24T20:35:37.304811Z"
    }
   },
   "outputs": [
    {
     "ename": "IndentationError",
     "evalue": "unexpected indent (<ipython-input-12-a82df54b5c3b>, line 3)",
     "output_type": "error",
     "traceback": [
      "\u001b[1;36m  File \u001b[1;32m\"<ipython-input-12-a82df54b5c3b>\"\u001b[1;36m, line \u001b[1;32m3\u001b[0m\n\u001b[1;33m    for i in range (len(cols)):\u001b[0m\n\u001b[1;37m    ^\u001b[0m\n\u001b[1;31mIndentationError\u001b[0m\u001b[1;31m:\u001b[0m unexpected indent\n"
     ]
    }
   ],
   "source": [
    "for line in df:\n",
    "   values = line.strip().split(\",\")\n",
    "    for i in range (len(cols)):\n",
    "        main_dict[cols[i]].append(values[i])\n",
    "        counter+= 1\n",
    "        print (\"El dataset tiene d% filas y d% columnas\"%(counter,n_cols))"
   ]
  },
  {
   "cell_type": "code",
   "execution_count": 13,
   "metadata": {
    "ExecuteTime": {
     "end_time": "2019-05-24T20:35:43.610767Z",
     "start_time": "2019-05-24T20:35:43.606764Z"
    }
   },
   "outputs": [
    {
     "data": {
      "text/plain": [
       "['pclass',\n",
       " 'survived',\n",
       " 'name',\n",
       " 'sex',\n",
       " 'age',\n",
       " 'sibsp',\n",
       " 'parch',\n",
       " 'ticket',\n",
       " 'fare',\n",
       " 'cabin',\n",
       " 'embarked',\n",
       " 'boat',\n",
       " 'body',\n",
       " 'home.dest']"
      ]
     },
     "execution_count": 13,
     "metadata": {},
     "output_type": "execute_result"
    }
   ],
   "source": [
    "cols"
   ]
  },
  {
   "cell_type": "code",
   "execution_count": 14,
   "metadata": {
    "ExecuteTime": {
     "end_time": "2019-05-24T20:39:38.487153Z",
     "start_time": "2019-05-24T20:39:38.479147Z"
    }
   },
   "outputs": [
    {
     "name": "stdout",
     "output_type": "stream",
     "text": [
      "El dataset tiene d 1.000000ilas y d\u000eolumnas\n",
      "El dataset tiene d 2.000000ilas y d\u000eolumnas\n",
      "El dataset tiene d 3.000000ilas y d\u000eolumnas\n",
      "El dataset tiene d 4.000000ilas y d\u000eolumnas\n",
      "El dataset tiene d 5.000000ilas y d\u000eolumnas\n",
      "El dataset tiene d 6.000000ilas y d\u000eolumnas\n",
      "El dataset tiene d 7.000000ilas y d\u000eolumnas\n",
      "El dataset tiene d 8.000000ilas y d\u000eolumnas\n",
      "El dataset tiene d 9.000000ilas y d\u000eolumnas\n",
      "El dataset tiene d 10.000000ilas y d\u000eolumnas\n",
      "El dataset tiene d 11.000000ilas y d\u000eolumnas\n",
      "El dataset tiene d 12.000000ilas y d\u000eolumnas\n",
      "El dataset tiene d 13.000000ilas y d\u000eolumnas\n",
      "El dataset tiene d 14.000000ilas y d\u000eolumnas\n"
     ]
    }
   ],
   "source": [
    "for line in df:\n",
    "   values = line.strip().split(\",\")\n",
    "for i in range (len(cols)):\n",
    "        main_dict[cols[i]].append(values[i])\n",
    "        counter+= 1\n",
    "        print (\"El dataset tiene d% filas y d% columnas\"%(counter,n_cols))"
   ]
  },
  {
   "cell_type": "code",
   "execution_count": 15,
   "metadata": {
    "ExecuteTime": {
     "end_time": "2019-05-24T20:40:58.281787Z",
     "start_time": "2019-05-24T20:40:58.276784Z"
    }
   },
   "outputs": [],
   "source": [
    "for line in df:\n",
    "   values = line.strip().split(\",\")\n",
    "   for i in range (len(cols)):\n",
    "        main_dict[cols[i]].append(values[i])\n",
    "        counter+= 1\n",
    "        print (\"El dataset tiene d% filas y d% columnas\"%(counter,n_cols))"
   ]
  },
  {
   "cell_type": "code",
   "execution_count": 16,
   "metadata": {
    "ExecuteTime": {
     "end_time": "2019-05-24T20:41:58.281814Z",
     "start_time": "2019-05-24T20:41:58.277813Z"
    }
   },
   "outputs": [],
   "source": [
    "for line in df:\n",
    "   values = line.strip().split(\",\")\n",
    "   for i in range (len(cols)):\n",
    "        main_dict[cols[i]].append(values[i])\n",
    "        counter+= 1\n",
    "        print (\"El dataset tiene %d filas y %d columnas\"%(counter,n_cols))"
   ]
  },
  {
   "cell_type": "code",
   "execution_count": 17,
   "metadata": {
    "ExecuteTime": {
     "end_time": "2019-05-24T20:42:08.352849Z",
     "start_time": "2019-05-24T20:42:08.347845Z"
    }
   },
   "outputs": [
    {
     "name": "stdout",
     "output_type": "stream",
     "text": [
      "El dataset tiene 15 filas y 14 columnas\n",
      "El dataset tiene 16 filas y 14 columnas\n",
      "El dataset tiene 17 filas y 14 columnas\n",
      "El dataset tiene 18 filas y 14 columnas\n",
      "El dataset tiene 19 filas y 14 columnas\n",
      "El dataset tiene 20 filas y 14 columnas\n",
      "El dataset tiene 21 filas y 14 columnas\n",
      "El dataset tiene 22 filas y 14 columnas\n",
      "El dataset tiene 23 filas y 14 columnas\n",
      "El dataset tiene 24 filas y 14 columnas\n",
      "El dataset tiene 25 filas y 14 columnas\n",
      "El dataset tiene 26 filas y 14 columnas\n",
      "El dataset tiene 27 filas y 14 columnas\n",
      "El dataset tiene 28 filas y 14 columnas\n"
     ]
    }
   ],
   "source": [
    "for line in df:\n",
    "   values = line.strip().split(\",\")\n",
    "for i in range (len(cols)):\n",
    "        main_dict[cols[i]].append(values[i])\n",
    "        counter+= 1\n",
    "        print (\"El dataset tiene %d filas y %d columnas\"%(counter,n_cols))"
   ]
  },
  {
   "cell_type": "code",
   "execution_count": 1,
   "metadata": {
    "ExecuteTime": {
     "end_time": "2019-05-24T20:43:20.062550Z",
     "start_time": "2019-05-24T20:43:19.899686Z"
    }
   },
   "outputs": [
    {
     "ename": "NameError",
     "evalue": "name 'cols' is not defined",
     "output_type": "error",
     "traceback": [
      "\u001b[1;31m---------------------------------------------------------------------------\u001b[0m",
      "\u001b[1;31mNameError\u001b[0m                                 Traceback (most recent call last)",
      "\u001b[1;32m<ipython-input-1-2570b4cd313d>\u001b[0m in \u001b[0;36m<module>\u001b[1;34m\u001b[0m\n\u001b[0;32m      1\u001b[0m \u001b[0mcounter\u001b[0m\u001b[1;33m=\u001b[0m\u001b[1;36m0\u001b[0m\u001b[1;33m\u001b[0m\u001b[1;33m\u001b[0m\u001b[0m\n\u001b[0;32m      2\u001b[0m \u001b[0mmain_dict\u001b[0m\u001b[1;33m=\u001b[0m\u001b[1;33m{\u001b[0m\u001b[1;33m}\u001b[0m\u001b[1;33m\u001b[0m\u001b[1;33m\u001b[0m\u001b[0m\n\u001b[1;32m----> 3\u001b[1;33m \u001b[1;32mfor\u001b[0m \u001b[0mcol\u001b[0m \u001b[1;32min\u001b[0m \u001b[0mcols\u001b[0m\u001b[1;33m:\u001b[0m\u001b[1;33m\u001b[0m\u001b[1;33m\u001b[0m\u001b[0m\n\u001b[0m\u001b[0;32m      4\u001b[0m     \u001b[0mmain_dict\u001b[0m\u001b[1;33m[\u001b[0m\u001b[0mcol\u001b[0m\u001b[1;33m]\u001b[0m\u001b[1;33m=\u001b[0m\u001b[1;33m[\u001b[0m\u001b[1;33m]\u001b[0m\u001b[1;33m\u001b[0m\u001b[1;33m\u001b[0m\u001b[0m\n\u001b[0;32m      5\u001b[0m \u001b[1;32mfor\u001b[0m \u001b[0mline\u001b[0m \u001b[1;32min\u001b[0m \u001b[0mdf\u001b[0m\u001b[1;33m:\u001b[0m\u001b[1;33m\u001b[0m\u001b[1;33m\u001b[0m\u001b[0m\n",
      "\u001b[1;31mNameError\u001b[0m: name 'cols' is not defined"
     ]
    }
   ],
   "source": [
    "\n",
    "\n",
    "\n",
    "counter=0\n",
    "main_dict={}\n",
    "for col in cols:\n",
    "    main_dict[col]=[]\n",
    "for line in df:\n",
    "   values = line.strip().split(\",\")\n",
    "for i in range (len(cols)):\n",
    "        main_dict[cols[i]].append(values[i])\n",
    "        counter+= 1\n",
    "        print (\"El dataset tiene %d filas y %d columnas\"%(counter,n_cols))"
   ]
  },
  {
   "cell_type": "code",
   "execution_count": 5,
   "metadata": {
    "ExecuteTime": {
     "end_time": "2019-05-24T20:44:10.096393Z",
     "start_time": "2019-05-24T20:44:10.083384Z"
    }
   },
   "outputs": [
    {
     "ename": "NameError",
     "evalue": "name 'n_cols' is not defined",
     "output_type": "error",
     "traceback": [
      "\u001b[1;31m---------------------------------------------------------------------------\u001b[0m",
      "\u001b[1;31mNameError\u001b[0m                                 Traceback (most recent call last)",
      "\u001b[1;32m<ipython-input-5-2570b4cd313d>\u001b[0m in \u001b[0;36m<module>\u001b[1;34m\u001b[0m\n\u001b[0;32m      8\u001b[0m         \u001b[0mmain_dict\u001b[0m\u001b[1;33m[\u001b[0m\u001b[0mcols\u001b[0m\u001b[1;33m[\u001b[0m\u001b[0mi\u001b[0m\u001b[1;33m]\u001b[0m\u001b[1;33m]\u001b[0m\u001b[1;33m.\u001b[0m\u001b[0mappend\u001b[0m\u001b[1;33m(\u001b[0m\u001b[0mvalues\u001b[0m\u001b[1;33m[\u001b[0m\u001b[0mi\u001b[0m\u001b[1;33m]\u001b[0m\u001b[1;33m)\u001b[0m\u001b[1;33m\u001b[0m\u001b[1;33m\u001b[0m\u001b[0m\n\u001b[0;32m      9\u001b[0m         \u001b[0mcounter\u001b[0m\u001b[1;33m+=\u001b[0m \u001b[1;36m1\u001b[0m\u001b[1;33m\u001b[0m\u001b[1;33m\u001b[0m\u001b[0m\n\u001b[1;32m---> 10\u001b[1;33m         \u001b[0mprint\u001b[0m \u001b[1;33m(\u001b[0m\u001b[1;34m\"El dataset tiene %d filas y %d columnas\"\u001b[0m\u001b[1;33m%\u001b[0m\u001b[1;33m(\u001b[0m\u001b[0mcounter\u001b[0m\u001b[1;33m,\u001b[0m\u001b[0mn_cols\u001b[0m\u001b[1;33m)\u001b[0m\u001b[1;33m)\u001b[0m\u001b[1;33m\u001b[0m\u001b[1;33m\u001b[0m\u001b[0m\n\u001b[0m",
      "\u001b[1;31mNameError\u001b[0m: name 'n_cols' is not defined"
     ]
    }
   ],
   "source": [
    "counter=0\n",
    "main_dict={}\n",
    "for col in cols:\n",
    "    main_dict[col]=[]\n",
    "for line in df:\n",
    "   values = line.strip().split(\",\")\n",
    "for i in range (len(cols)):\n",
    "        main_dict[cols[i]].append(values[i])\n",
    "        counter+= 1\n",
    "        print (\"El dataset tiene %d filas y %d columnas\"%(counter,n_cols))"
   ]
  },
  {
   "cell_type": "code",
   "execution_count": 7,
   "metadata": {
    "ExecuteTime": {
     "end_time": "2019-05-24T20:44:29.334629Z",
     "start_time": "2019-05-24T20:44:29.323620Z"
    }
   },
   "outputs": [
    {
     "name": "stdout",
     "output_type": "stream",
     "text": [
      "El dataset tiene 1 filas y 14 columnas\n",
      "El dataset tiene 2 filas y 14 columnas\n",
      "El dataset tiene 3 filas y 14 columnas\n",
      "El dataset tiene 4 filas y 14 columnas\n",
      "El dataset tiene 5 filas y 14 columnas\n",
      "El dataset tiene 6 filas y 14 columnas\n",
      "El dataset tiene 7 filas y 14 columnas\n",
      "El dataset tiene 8 filas y 14 columnas\n",
      "El dataset tiene 9 filas y 14 columnas\n",
      "El dataset tiene 10 filas y 14 columnas\n",
      "El dataset tiene 11 filas y 14 columnas\n",
      "El dataset tiene 12 filas y 14 columnas\n",
      "El dataset tiene 13 filas y 14 columnas\n",
      "El dataset tiene 14 filas y 14 columnas\n"
     ]
    }
   ],
   "source": [
    "counter=0\n",
    "main_dict={}\n",
    "for col in cols:\n",
    "    main_dict[col]=[]\n",
    "for line in df:\n",
    "   values = line.strip().split(\",\")\n",
    "for i in range (len(cols)):\n",
    "        main_dict[cols[i]].append(values[i])\n",
    "        counter+= 1\n",
    "        print (\"El dataset tiene %d filas y %d columnas\"%(counter,n_cols))"
   ]
  },
  {
   "cell_type": "code",
   "execution_count": 2,
   "metadata": {
    "ExecuteTime": {
     "end_time": "2019-05-24T20:55:52.539318Z",
     "start_time": "2019-05-24T20:55:52.534315Z"
    }
   },
   "outputs": [],
   "source": [
    "df=open(\"../python-ml-course/datasets/customer-churn-model/Customer Churn Model.txt\",\"r\")"
   ]
  },
  {
   "cell_type": "code",
   "execution_count": 3,
   "metadata": {
    "ExecuteTime": {
     "end_time": "2019-05-24T20:56:11.752132Z",
     "start_time": "2019-05-24T20:56:11.741126Z"
    }
   },
   "outputs": [],
   "source": [
    "cols=df.readline().strip().split(\",\")"
   ]
  },
  {
   "cell_type": "code",
   "execution_count": 4,
   "metadata": {
    "ExecuteTime": {
     "end_time": "2019-05-24T20:56:23.712482Z",
     "start_time": "2019-05-24T20:56:23.710480Z"
    }
   },
   "outputs": [],
   "source": [
    "n_cols=len(cols)"
   ]
  },
  {
   "cell_type": "code",
   "execution_count": 5,
   "metadata": {
    "ExecuteTime": {
     "end_time": "2019-05-24T20:56:48.227340Z",
     "start_time": "2019-05-24T20:56:48.181308Z"
    }
   },
   "outputs": [
    {
     "name": "stdout",
     "output_type": "stream",
     "text": [
      "El dataset tiene 1 filas y 21 columnas\n",
      "El dataset tiene 2 filas y 21 columnas\n",
      "El dataset tiene 3 filas y 21 columnas\n",
      "El dataset tiene 4 filas y 21 columnas\n",
      "El dataset tiene 5 filas y 21 columnas\n",
      "El dataset tiene 6 filas y 21 columnas\n",
      "El dataset tiene 7 filas y 21 columnas\n",
      "El dataset tiene 8 filas y 21 columnas\n",
      "El dataset tiene 9 filas y 21 columnas\n",
      "El dataset tiene 10 filas y 21 columnas\n",
      "El dataset tiene 11 filas y 21 columnas\n",
      "El dataset tiene 12 filas y 21 columnas\n",
      "El dataset tiene 13 filas y 21 columnas\n",
      "El dataset tiene 14 filas y 21 columnas\n",
      "El dataset tiene 15 filas y 21 columnas\n",
      "El dataset tiene 16 filas y 21 columnas\n",
      "El dataset tiene 17 filas y 21 columnas\n",
      "El dataset tiene 18 filas y 21 columnas\n",
      "El dataset tiene 19 filas y 21 columnas\n",
      "El dataset tiene 20 filas y 21 columnas\n",
      "El dataset tiene 21 filas y 21 columnas\n"
     ]
    }
   ],
   "source": [
    "counter=0\n",
    "main_dict={}\n",
    "for col in cols:\n",
    "    main_dict[col]=[]\n",
    "for line in df:\n",
    "   values = line.strip().split(\",\")\n",
    "for i in range (len(cols)):\n",
    "        main_dict[cols[i]].append(values[i])\n",
    "        counter+= 1\n",
    "        print (\"El dataset tiene %d filas y %d columnas\"%(counter,n_cols))"
   ]
  },
  {
   "cell_type": "code",
   "execution_count": 6,
   "metadata": {
    "ExecuteTime": {
     "end_time": "2019-05-24T21:04:36.537116Z",
     "start_time": "2019-05-24T21:04:36.532110Z"
    }
   },
   "outputs": [
    {
     "ename": "IndentationError",
     "evalue": "unexpected indent (<ipython-input-6-df3338463ec1>, line 3)",
     "output_type": "error",
     "traceback": [
      "\u001b[1;36m  File \u001b[1;32m\"<ipython-input-6-df3338463ec1>\"\u001b[1;36m, line \u001b[1;32m3\u001b[0m\n\u001b[1;33m    for i in range (len(cols)):\u001b[0m\n\u001b[1;37m    ^\u001b[0m\n\u001b[1;31mIndentationError\u001b[0m\u001b[1;31m:\u001b[0m unexpected indent\n"
     ]
    }
   ],
   "source": [
    "for line in df:\n",
    "   values = line.strip().split(\",\")\n",
    "    for i in range (len(cols)):\n",
    "        main_dict[cols[i]].append(values[i])\n",
    "        counter+= 1\n",
    "        print (\"El dataset tiene %d filas y %d columnas\"%(counter,n_cols))"
   ]
  },
  {
   "cell_type": "code",
   "execution_count": 7,
   "metadata": {
    "ExecuteTime": {
     "end_time": "2019-05-24T21:07:29.405744Z",
     "start_time": "2019-05-24T21:07:29.400743Z"
    }
   },
   "outputs": [],
   "source": [
    "for line in df:\n",
    "   values = line.strip().split(\",\")\n",
    "   for i in range (len(cols)):\n",
    "        main_dict[cols[i]].append(values[i])\n",
    "        counter+= 1\n",
    "        print (\"El dataset tiene %d filas y %d columnas\"%(counter,n_cols))"
   ]
  },
  {
   "cell_type": "code",
   "execution_count": 8,
   "metadata": {
    "ExecuteTime": {
     "end_time": "2019-05-24T21:07:40.413657Z",
     "start_time": "2019-05-24T21:07:40.407653Z"
    }
   },
   "outputs": [
    {
     "name": "stdout",
     "output_type": "stream",
     "text": [
      "El dataset tiene 22 filas y 21 columnas\n",
      "El dataset tiene 23 filas y 21 columnas\n",
      "El dataset tiene 24 filas y 21 columnas\n",
      "El dataset tiene 25 filas y 21 columnas\n",
      "El dataset tiene 26 filas y 21 columnas\n",
      "El dataset tiene 27 filas y 21 columnas\n",
      "El dataset tiene 28 filas y 21 columnas\n",
      "El dataset tiene 29 filas y 21 columnas\n",
      "El dataset tiene 30 filas y 21 columnas\n",
      "El dataset tiene 31 filas y 21 columnas\n",
      "El dataset tiene 32 filas y 21 columnas\n",
      "El dataset tiene 33 filas y 21 columnas\n",
      "El dataset tiene 34 filas y 21 columnas\n",
      "El dataset tiene 35 filas y 21 columnas\n",
      "El dataset tiene 36 filas y 21 columnas\n",
      "El dataset tiene 37 filas y 21 columnas\n",
      "El dataset tiene 38 filas y 21 columnas\n",
      "El dataset tiene 39 filas y 21 columnas\n",
      "El dataset tiene 40 filas y 21 columnas\n",
      "El dataset tiene 41 filas y 21 columnas\n",
      "El dataset tiene 42 filas y 21 columnas\n"
     ]
    }
   ],
   "source": [
    "for line in df:\n",
    "   values = line.strip().split(\",\")\n",
    "for i in range (len(cols)):\n",
    "        main_dict[cols[i]].append(values[i])\n",
    "        counter+= 1\n",
    "        print (\"El dataset tiene %d filas y %d columnas\"%(counter,n_cols))"
   ]
  },
  {
   "cell_type": "code",
   "execution_count": 10,
   "metadata": {
    "ExecuteTime": {
     "end_time": "2019-05-24T21:09:28.349759Z",
     "start_time": "2019-05-24T21:09:28.345756Z"
    }
   },
   "outputs": [
    {
     "ename": "IndentationError",
     "evalue": "unindent does not match any outer indentation level (<tokenize>, line 5)",
     "output_type": "error",
     "traceback": [
      "\u001b[1;36m  File \u001b[1;32m\"<tokenize>\"\u001b[1;36m, line \u001b[1;32m5\u001b[0m\n\u001b[1;33m    counter += 1\u001b[0m\n\u001b[1;37m    ^\u001b[0m\n\u001b[1;31mIndentationError\u001b[0m\u001b[1;31m:\u001b[0m unindent does not match any outer indentation level\n"
     ]
    }
   ],
   "source": [
    "for line in df:\n",
    "   values = line.strip().split(\",\")\n",
    "   for i in range (len(cols)):\n",
    "        main_dict[cols[i]].append(values[i])\n",
    "    counter += 1\n",
    "print (\"El dataset tiene %d filas y %d columnas\"%(counter,n_cols))"
   ]
  },
  {
   "cell_type": "code",
   "execution_count": 12,
   "metadata": {
    "ExecuteTime": {
     "end_time": "2019-05-24T21:10:45.909195Z",
     "start_time": "2019-05-24T21:10:45.905192Z"
    }
   },
   "outputs": [
    {
     "ename": "IndentationError",
     "evalue": "unindent does not match any outer indentation level (<tokenize>, line 5)",
     "output_type": "error",
     "traceback": [
      "\u001b[1;36m  File \u001b[1;32m\"<tokenize>\"\u001b[1;36m, line \u001b[1;32m5\u001b[0m\n\u001b[1;33m    counter += 1\u001b[0m\n\u001b[1;37m    ^\u001b[0m\n\u001b[1;31mIndentationError\u001b[0m\u001b[1;31m:\u001b[0m unindent does not match any outer indentation level\n"
     ]
    }
   ],
   "source": [
    "for line in df:\n",
    "   values = line.strip().split(\",\")\n",
    "   for i in range (len(cols)):\n",
    "        main_dict[cols[i]].append(values[i])\n",
    "    counter += 1\n",
    "    \n",
    "print (\"El dataset tiene %d filas y %d columnas\"%(counter,n_cols))"
   ]
  },
  {
   "cell_type": "code",
   "execution_count": 13,
   "metadata": {
    "ExecuteTime": {
     "end_time": "2019-05-24T21:13:06.676778Z",
     "start_time": "2019-05-24T21:13:06.669776Z"
    }
   },
   "outputs": [
    {
     "name": "stdout",
     "output_type": "stream",
     "text": [
      "El dataset tiene 0 filas y 21 columnas\n"
     ]
    }
   ],
   "source": [
    "counter = 0\n",
    "main_dict={}\n",
    "for col in cols:\n",
    "    main_dict[col]=[]\n",
    "\n",
    "for line in df:\n",
    "   values = line.strip().split(\",\")\n",
    "   for i in range (len(cols)):\n",
    "        main_dict[cols[i]].append(values[i])\n",
    "   counter += 1\n",
    "    \n",
    "print (\"El dataset tiene %d filas y %d columnas\"%(counter,n_cols))"
   ]
  },
  {
   "cell_type": "code",
   "execution_count": 14,
   "metadata": {
    "ExecuteTime": {
     "end_time": "2019-05-24T21:13:35.443412Z",
     "start_time": "2019-05-24T21:13:35.437418Z"
    }
   },
   "outputs": [
    {
     "name": "stdout",
     "output_type": "stream",
     "text": [
      "El dataset tiene 0 filas y 21 columnas\n"
     ]
    }
   ],
   "source": [
    "counter = 0\n",
    "main_dict={}\n",
    "for col in cols:\n",
    "    main_dict[col]=[]\n",
    "\n",
    "for line in df:\n",
    "   values = line.strip().split(\",\")\n",
    "   for i in range (len(cols)):\n",
    "        main_dict[cols[i]].append(values[i])\n",
    "   counter+= 1\n",
    "    \n",
    "print (\"El dataset tiene %d filas y %d columnas\"%(counter,n_cols))"
   ]
  },
  {
   "cell_type": "code",
   "execution_count": 15,
   "metadata": {
    "ExecuteTime": {
     "end_time": "2019-05-24T21:14:11.012580Z",
     "start_time": "2019-05-24T21:14:11.006578Z"
    }
   },
   "outputs": [
    {
     "name": "stdout",
     "output_type": "stream",
     "text": [
      "El dataset tiene 0 filas y 21 columnas\n"
     ]
    }
   ],
   "source": [
    "counter = 0\n",
    "main_dict={}\n",
    "for col in cols:\n",
    "    main_dict[col]=[]\n",
    "for line in df:\n",
    "   values = line.strip().split(\",\")\n",
    "   for i in range (len(cols)):\n",
    "        main_dict[cols[i]].append(values[i])\n",
    "   counter += 1\n",
    "    \n",
    "print (\"El dataset tiene %d filas y %d columnas\"%(counter,n_cols))"
   ]
  },
  {
   "cell_type": "code",
   "execution_count": 16,
   "metadata": {
    "ExecuteTime": {
     "end_time": "2019-05-24T21:14:43.544770Z",
     "start_time": "2019-05-24T21:14:43.541768Z"
    }
   },
   "outputs": [],
   "source": [
    "counter = 0\n",
    "main_dict={}\n",
    "for col in cols:\n",
    "    main_dict[col]=[]"
   ]
  },
  {
   "cell_type": "code",
   "execution_count": 17,
   "metadata": {
    "ExecuteTime": {
     "end_time": "2019-05-24T21:14:50.572856Z",
     "start_time": "2019-05-24T21:14:50.567853Z"
    }
   },
   "outputs": [
    {
     "name": "stdout",
     "output_type": "stream",
     "text": [
      "El dataset tiene 0 filas y 21 columnas\n"
     ]
    }
   ],
   "source": [
    "for line in df:\n",
    "   values = line.strip().split(\",\")\n",
    "   for i in range (len(cols)):\n",
    "        main_dict[cols[i]].append(values[i])\n",
    "   counter += 1\n",
    "    \n",
    "print (\"El dataset tiene %d filas y %d columnas\"%(counter,n_cols))"
   ]
  },
  {
   "cell_type": "code",
   "execution_count": 18,
   "metadata": {
    "ExecuteTime": {
     "end_time": "2019-05-24T21:15:02.427153Z",
     "start_time": "2019-05-24T21:15:02.421151Z"
    }
   },
   "outputs": [
    {
     "name": "stdout",
     "output_type": "stream",
     "text": [
      "El dataset tiene 0 filas y 21 columnas\n"
     ]
    }
   ],
   "source": [
    "for line in df:\n",
    "   values = line.strip().split(\",\")\n",
    "   for i in range (len(cols)):\n",
    "        main_dict[cols[i]].append(values[i])\n",
    "   counter+= 1\n",
    "    \n",
    "print (\"El dataset tiene %d filas y %d columnas\"%(counter,n_cols))"
   ]
  },
  {
   "cell_type": "code",
   "execution_count": 19,
   "metadata": {
    "ExecuteTime": {
     "end_time": "2019-05-24T21:21:48.879548Z",
     "start_time": "2019-05-24T21:21:48.865536Z"
    }
   },
   "outputs": [
    {
     "data": {
      "text/plain": [
       "['State',\n",
       " 'Account Length',\n",
       " 'Area Code',\n",
       " 'Phone',\n",
       " \"Int'l Plan\",\n",
       " 'VMail Plan',\n",
       " 'VMail Message',\n",
       " 'Day Mins',\n",
       " 'Day Calls',\n",
       " 'Day Charge',\n",
       " 'Eve Mins',\n",
       " 'Eve Calls',\n",
       " 'Eve Charge',\n",
       " 'Night Mins',\n",
       " 'Night Calls',\n",
       " 'Night Charge',\n",
       " 'Intl Mins',\n",
       " 'Intl Calls',\n",
       " 'Intl Charge',\n",
       " 'CustServ Calls',\n",
       " 'Churn?']"
      ]
     },
     "execution_count": 19,
     "metadata": {},
     "output_type": "execute_result"
    }
   ],
   "source": [
    "cols"
   ]
  },
  {
   "cell_type": "code",
   "execution_count": 20,
   "metadata": {
    "ExecuteTime": {
     "end_time": "2019-05-24T21:21:55.908906Z",
     "start_time": "2019-05-24T21:21:55.904903Z"
    }
   },
   "outputs": [
    {
     "data": {
      "text/plain": [
       "21"
      ]
     },
     "execution_count": 20,
     "metadata": {},
     "output_type": "execute_result"
    }
   ],
   "source": [
    "n_cols"
   ]
  },
  {
   "cell_type": "code",
   "execution_count": 21,
   "metadata": {
    "ExecuteTime": {
     "end_time": "2019-05-24T21:22:07.918751Z",
     "start_time": "2019-05-24T21:22:07.914749Z"
    }
   },
   "outputs": [],
   "source": [
    "counter = 0\n",
    "main_dict={}\n",
    "for col in cols:\n",
    "    main_dict[col]=[]"
   ]
  },
  {
   "cell_type": "code",
   "execution_count": 23,
   "metadata": {
    "ExecuteTime": {
     "end_time": "2019-05-24T21:23:29.324892Z",
     "start_time": "2019-05-24T21:23:29.320889Z"
    }
   },
   "outputs": [
    {
     "ename": "IndentationError",
     "evalue": "unindent does not match any outer indentation level (<tokenize>, line 3)",
     "output_type": "error",
     "traceback": [
      "\u001b[1;36m  File \u001b[1;32m\"<tokenize>\"\u001b[1;36m, line \u001b[1;32m3\u001b[0m\n\u001b[1;33m    for i in range (len(cols)):\u001b[0m\n\u001b[1;37m    ^\u001b[0m\n\u001b[1;31mIndentationError\u001b[0m\u001b[1;31m:\u001b[0m unindent does not match any outer indentation level\n"
     ]
    }
   ],
   "source": [
    "for line in df:\n",
    "     lineas = line.strip().split(\",\")\n",
    "   for i in range (len(cols)):\n",
    "        main_dict[cols[i]].append(lineas[i])\n",
    "   counter+= 1\n",
    "    \n",
    "print (\"El dataset tiene %d filas y %d columnas\"%(counter,n_cols))"
   ]
  },
  {
   "cell_type": "code",
   "execution_count": 24,
   "metadata": {
    "ExecuteTime": {
     "end_time": "2019-05-24T21:23:49.885803Z",
     "start_time": "2019-05-24T21:23:49.880801Z"
    }
   },
   "outputs": [
    {
     "ename": "IndentationError",
     "evalue": "expected an indented block (<ipython-input-24-51a8917338c9>, line 2)",
     "output_type": "error",
     "traceback": [
      "\u001b[1;36m  File \u001b[1;32m\"<ipython-input-24-51a8917338c9>\"\u001b[1;36m, line \u001b[1;32m2\u001b[0m\n\u001b[1;33m    lineas = line.strip().split(\",\")\u001b[0m\n\u001b[1;37m         ^\u001b[0m\n\u001b[1;31mIndentationError\u001b[0m\u001b[1;31m:\u001b[0m expected an indented block\n"
     ]
    }
   ],
   "source": [
    "for line in df:\n",
    "lineas = line.strip().split(\",\")\n",
    "   for i in range (len(cols)):\n",
    "        main_dict[cols[i]].append(lineas[i])\n",
    "   counter+= 1\n",
    "    \n",
    "print (\"El dataset tiene %d filas y %d columnas\"%(counter,n_cols))"
   ]
  },
  {
   "cell_type": "code",
   "execution_count": 26,
   "metadata": {
    "ExecuteTime": {
     "end_time": "2019-05-24T21:24:14.716173Z",
     "start_time": "2019-05-24T21:24:14.713170Z"
    }
   },
   "outputs": [
    {
     "ename": "IndentationError",
     "evalue": "unindent does not match any outer indentation level (<tokenize>, line 3)",
     "output_type": "error",
     "traceback": [
      "\u001b[1;36m  File \u001b[1;32m\"<tokenize>\"\u001b[1;36m, line \u001b[1;32m3\u001b[0m\n\u001b[1;33m    for i in range (len(cols)):\u001b[0m\n\u001b[1;37m    ^\u001b[0m\n\u001b[1;31mIndentationError\u001b[0m\u001b[1;31m:\u001b[0m unindent does not match any outer indentation level\n"
     ]
    }
   ],
   "source": [
    "for line in df:\n",
    "    lineas = line.strip().split(\",\")\n",
    "   for i in range (len(cols)):\n",
    "        main_dict[cols[i]].append(lineas[i])\n",
    "   counter+= 1\n",
    "    \n",
    "print (\"El dataset tiene %d filas y %d columnas\"%(counter,n_cols))"
   ]
  },
  {
   "cell_type": "code",
   "execution_count": 27,
   "metadata": {
    "ExecuteTime": {
     "end_time": "2019-05-24T21:24:39.711304Z",
     "start_time": "2019-05-24T21:24:39.706301Z"
    }
   },
   "outputs": [
    {
     "ename": "IndentationError",
     "evalue": "unexpected indent (<ipython-input-27-0f631f28157d>, line 3)",
     "output_type": "error",
     "traceback": [
      "\u001b[1;36m  File \u001b[1;32m\"<ipython-input-27-0f631f28157d>\"\u001b[1;36m, line \u001b[1;32m3\u001b[0m\n\u001b[1;33m    for i in range (len(cols)):\u001b[0m\n\u001b[1;37m    ^\u001b[0m\n\u001b[1;31mIndentationError\u001b[0m\u001b[1;31m:\u001b[0m unexpected indent\n"
     ]
    }
   ],
   "source": [
    "for line in df:\n",
    "    lineas = line.strip().split(\",\")\n",
    "       for i in range (len(cols)):\n",
    "            main_dict[cols[i]].append(lineas[i])\n",
    "       counter+= 1\n",
    "    \n",
    "print (\"El dataset tiene %d filas y %d columnas\"%(counter,n_cols))"
   ]
  },
  {
   "cell_type": "code",
   "execution_count": 28,
   "metadata": {
    "ExecuteTime": {
     "end_time": "2019-05-24T21:25:15.878336Z",
     "start_time": "2019-05-24T21:25:15.873332Z"
    }
   },
   "outputs": [
    {
     "ename": "IndentationError",
     "evalue": "unexpected indent (<ipython-input-28-879cc9f4fe0a>, line 3)",
     "output_type": "error",
     "traceback": [
      "\u001b[1;36m  File \u001b[1;32m\"<ipython-input-28-879cc9f4fe0a>\"\u001b[1;36m, line \u001b[1;32m3\u001b[0m\n\u001b[1;33m    for i in range (len(cols)):\u001b[0m\n\u001b[1;37m    ^\u001b[0m\n\u001b[1;31mIndentationError\u001b[0m\u001b[1;31m:\u001b[0m unexpected indent\n"
     ]
    }
   ],
   "source": [
    "for line in df:\n",
    " lineas = line.strip().split(\",\")\n",
    "       for i in range (len(cols)):\n",
    "            main_dict[cols[i]].append(lineas[i])\n",
    "       counter+= 1\n",
    "    \n",
    "print (\"El dataset tiene %d filas y %d columnas\"%(counter,n_cols))"
   ]
  },
  {
   "cell_type": "code",
   "execution_count": 29,
   "metadata": {
    "ExecuteTime": {
     "end_time": "2019-05-24T21:25:51.632289Z",
     "start_time": "2019-05-24T21:25:51.627286Z"
    }
   },
   "outputs": [
    {
     "ename": "IndentationError",
     "evalue": "unexpected indent (<ipython-input-29-e3295cd98f23>, line 3)",
     "output_type": "error",
     "traceback": [
      "\u001b[1;36m  File \u001b[1;32m\"<ipython-input-29-e3295cd98f23>\"\u001b[1;36m, line \u001b[1;32m3\u001b[0m\n\u001b[1;33m    for i in range (len(cols)):\u001b[0m\n\u001b[1;37m    ^\u001b[0m\n\u001b[1;31mIndentationError\u001b[0m\u001b[1;31m:\u001b[0m unexpected indent\n"
     ]
    }
   ],
   "source": [
    "for line in df:\n",
    "   lineas = line.strip().split(\",\")\n",
    "       for i in range (len(cols)):\n",
    "       main_dict[cols[i]].append(lineas[i])\n",
    "counter+= 1\n",
    "    \n",
    "print (\"El dataset tiene %d filas y %d columnas\"%(counter,n_cols))"
   ]
  },
  {
   "cell_type": "code",
   "execution_count": 30,
   "metadata": {
    "ExecuteTime": {
     "end_time": "2019-05-24T21:26:52.758575Z",
     "start_time": "2019-05-24T21:26:52.753572Z"
    }
   },
   "outputs": [
    {
     "name": "stdout",
     "output_type": "stream",
     "text": [
      "El dataset tiene 0 filas y 21 columnas\n"
     ]
    }
   ],
   "source": [
    "for line in df:\n",
    "         lineas = line.strip().split(\",\")\n",
    "         for i in range (len(cols)):\n",
    "             main_dict[cols[i]].append(lineas[i])\n",
    "         counter+= 1\n",
    "    \n",
    "print (\"El dataset tiene %d filas y %d columnas\"%(counter,n_cols))"
   ]
  },
  {
   "cell_type": "code",
   "execution_count": 31,
   "metadata": {
    "ExecuteTime": {
     "end_time": "2019-05-24T21:27:08.688766Z",
     "start_time": "2019-05-24T21:27:08.519447Z"
    }
   },
   "outputs": [
    {
     "ename": "AttributeError",
     "evalue": "'_io.TextIOWrapper' object has no attribute 'head'",
     "output_type": "error",
     "traceback": [
      "\u001b[1;31m---------------------------------------------------------------------------\u001b[0m",
      "\u001b[1;31mAttributeError\u001b[0m                            Traceback (most recent call last)",
      "\u001b[1;32m<ipython-input-31-c42a15b2c7cf>\u001b[0m in \u001b[0;36m<module>\u001b[1;34m\u001b[0m\n\u001b[1;32m----> 1\u001b[1;33m \u001b[0mdf\u001b[0m\u001b[1;33m.\u001b[0m\u001b[0mhead\u001b[0m\u001b[1;33m(\u001b[0m\u001b[1;33m)\u001b[0m\u001b[1;33m\u001b[0m\u001b[1;33m\u001b[0m\u001b[0m\n\u001b[0m",
      "\u001b[1;31mAttributeError\u001b[0m: '_io.TextIOWrapper' object has no attribute 'head'"
     ]
    }
   ],
   "source": [
    "df.head()"
   ]
  },
  {
   "cell_type": "code",
   "execution_count": 32,
   "metadata": {
    "ExecuteTime": {
     "end_time": "2019-05-24T21:28:45.275805Z",
     "start_time": "2019-05-24T21:28:45.272803Z"
    }
   },
   "outputs": [
    {
     "name": "stdout",
     "output_type": "stream",
     "text": [
      "<_io.TextIOWrapper name='../python-ml-course/datasets/customer-churn-model/Customer Churn Model.txt' mode='r' encoding='cp1252'>\n"
     ]
    }
   ],
   "source": [
    "print (df)"
   ]
  },
  {
   "cell_type": "code",
   "execution_count": 33,
   "metadata": {
    "ExecuteTime": {
     "end_time": "2019-05-24T21:29:00.593133Z",
     "start_time": "2019-05-24T21:29:00.590131Z"
    }
   },
   "outputs": [
    {
     "name": "stdout",
     "output_type": "stream",
     "text": [
      "df\n"
     ]
    }
   ],
   "source": [
    "print (\"df\")"
   ]
  },
  {
   "cell_type": "code",
   "execution_count": 34,
   "metadata": {
    "ExecuteTime": {
     "end_time": "2019-05-24T21:33:59.791159Z",
     "start_time": "2019-05-24T21:33:59.788158Z"
    }
   },
   "outputs": [
    {
     "name": "stdout",
     "output_type": "stream",
     "text": [
      "\n"
     ]
    }
   ],
   "source": [
    "leer=df.readlines(10)\n",
    "print(leer)"
   ]
  },
  {
   "cell_type": "code",
   "execution_count": 35,
   "metadata": {
    "ExecuteTime": {
     "end_time": "2019-05-24T21:35:35.134518Z",
     "start_time": "2019-05-24T21:35:35.131516Z"
    }
   },
   "outputs": [
    {
     "name": "stdout",
     "output_type": "stream",
     "text": [
      "[]\n"
     ]
    }
   ],
   "source": [
    "leer=df.readlines(10)\n",
    "print(leer)"
   ]
  },
  {
   "cell_type": "code",
   "execution_count": 36,
   "metadata": {
    "ExecuteTime": {
     "end_time": "2019-05-24T21:35:44.894375Z",
     "start_time": "2019-05-24T21:35:44.891373Z"
    }
   },
   "outputs": [
    {
     "name": "stdout",
     "output_type": "stream",
     "text": [
      "[]\n"
     ]
    }
   ],
   "source": [
    "leer=df.readlines()\n",
    "print(leer)"
   ]
  },
  {
   "cell_type": "code",
   "execution_count": 37,
   "metadata": {
    "ExecuteTime": {
     "end_time": "2019-05-24T21:41:13.136292Z",
     "start_time": "2019-05-24T21:41:13.132290Z"
    }
   },
   "outputs": [
    {
     "data": {
      "text/plain": [
       "''"
      ]
     },
     "execution_count": 37,
     "metadata": {},
     "output_type": "execute_result"
    }
   ],
   "source": [
    "leer=df.read(10)\n",
    "leer"
   ]
  },
  {
   "cell_type": "code",
   "execution_count": 38,
   "metadata": {
    "ExecuteTime": {
     "end_time": "2019-05-24T21:42:01.108412Z",
     "start_time": "2019-05-24T21:42:01.104911Z"
    }
   },
   "outputs": [],
   "source": [
    "df=open(mainpath+\"/titanic/titanic3.csv\",\"r\")"
   ]
  },
  {
   "cell_type": "code",
   "execution_count": 39,
   "metadata": {
    "ExecuteTime": {
     "end_time": "2019-05-24T21:42:07.593861Z",
     "start_time": "2019-05-24T21:42:07.584355Z"
    }
   },
   "outputs": [
    {
     "data": {
      "text/plain": [
       "'pclass,sur'"
      ]
     },
     "execution_count": 39,
     "metadata": {},
     "output_type": "execute_result"
    }
   ],
   "source": [
    "leer=df.read(10)\n",
    "leer"
   ]
  },
  {
   "cell_type": "code",
   "execution_count": 40,
   "metadata": {
    "ExecuteTime": {
     "end_time": "2019-05-24T21:42:30.060499Z",
     "start_time": "2019-05-24T21:42:30.056497Z"
    }
   },
   "outputs": [
    {
     "data": {
      "text/plain": [
       "'vived,name,sex,age,sibsp,parch,ticket,fare,cabin,embarked,boat,body,home.dest\\n1,1,\"Allen, Miss. Elis'"
      ]
     },
     "execution_count": 40,
     "metadata": {},
     "output_type": "execute_result"
    }
   ],
   "source": [
    "leer=df.read(100)\n",
    "leer"
   ]
  },
  {
   "cell_type": "markdown",
   "metadata": {
    "ExecuteTime": {
     "end_time": "2019-05-27T18:53:21.353275Z",
     "start_time": "2019-05-27T18:53:21.348271Z"
    }
   },
   "source": [
    "# Lectura y Escritura de Ficheros"
   ]
  },
  {
   "cell_type": "code",
   "execution_count": 50,
   "metadata": {
    "ExecuteTime": {
     "end_time": "2019-05-27T19:51:51.794872Z",
     "start_time": "2019-05-27T19:51:51.791863Z"
    }
   },
   "outputs": [],
   "source": [
    "infile = mainpath+\"/customer-churn-model/Customer Churn Model.txt\"\n",
    "outfile = mainpath+\"/customer-churn-model/Tab Customer Churn Model5.txt\""
   ]
  },
  {
   "cell_type": "code",
   "execution_count": 51,
   "metadata": {
    "ExecuteTime": {
     "end_time": "2019-05-27T19:52:24.622083Z",
     "start_time": "2019-05-27T19:52:24.593063Z"
    }
   },
   "outputs": [],
   "source": [
    "with open(infile, \"r\") as infile1:\n",
    "    with open(outfile,\"w\") as outfile1:\n",
    "        for line in infile1:\n",
    "            fields=line.split(\",\")\n",
    "            outfile1.write(\"\\t\".join(fields))"
   ]
  },
  {
   "cell_type": "code",
   "execution_count": 27,
   "metadata": {
    "ExecuteTime": {
     "end_time": "2019-05-27T19:31:28.769542Z",
     "start_time": "2019-05-27T19:31:24.723004Z"
    }
   },
   "outputs": [],
   "source": [
    "import pandas as pd"
   ]
  },
  {
   "cell_type": "code",
   "execution_count": 36,
   "metadata": {
    "ExecuteTime": {
     "end_time": "2019-05-27T19:35:35.617208Z",
     "start_time": "2019-05-27T19:35:35.550983Z"
    }
   },
   "outputs": [],
   "source": [
    "df= pd.read_csv(outfile,sep=\"\\t\")"
   ]
  },
  {
   "cell_type": "code",
   "execution_count": 37,
   "metadata": {
    "ExecuteTime": {
     "end_time": "2019-05-27T19:35:42.440064Z",
     "start_time": "2019-05-27T19:35:42.256970Z"
    }
   },
   "outputs": [
    {
     "data": {
      "text/html": [
       "<div>\n",
       "<style scoped>\n",
       "    .dataframe tbody tr th:only-of-type {\n",
       "        vertical-align: middle;\n",
       "    }\n",
       "\n",
       "    .dataframe tbody tr th {\n",
       "        vertical-align: top;\n",
       "    }\n",
       "\n",
       "    .dataframe thead th {\n",
       "        text-align: right;\n",
       "    }\n",
       "</style>\n",
       "<table border=\"1\" class=\"dataframe\">\n",
       "  <thead>\n",
       "    <tr style=\"text-align: right;\">\n",
       "      <th></th>\n",
       "      <th>State</th>\n",
       "      <th>Account Length</th>\n",
       "      <th>Area Code</th>\n",
       "      <th>Phone</th>\n",
       "      <th>Int'l Plan</th>\n",
       "      <th>VMail Plan</th>\n",
       "      <th>VMail Message</th>\n",
       "      <th>Day Mins</th>\n",
       "      <th>Day Calls</th>\n",
       "      <th>Day Charge</th>\n",
       "      <th>...</th>\n",
       "      <th>Eve Calls</th>\n",
       "      <th>Eve Charge</th>\n",
       "      <th>Night Mins</th>\n",
       "      <th>Night Calls</th>\n",
       "      <th>Night Charge</th>\n",
       "      <th>Intl Mins</th>\n",
       "      <th>Intl Calls</th>\n",
       "      <th>Intl Charge</th>\n",
       "      <th>CustServ Calls</th>\n",
       "      <th>Churn?</th>\n",
       "    </tr>\n",
       "  </thead>\n",
       "  <tbody>\n",
       "    <tr>\n",
       "      <th>0</th>\n",
       "      <td>KS</td>\n",
       "      <td>128</td>\n",
       "      <td>415</td>\n",
       "      <td>382-4657</td>\n",
       "      <td>no</td>\n",
       "      <td>yes</td>\n",
       "      <td>25</td>\n",
       "      <td>265.1</td>\n",
       "      <td>110</td>\n",
       "      <td>45.07</td>\n",
       "      <td>...</td>\n",
       "      <td>99</td>\n",
       "      <td>16.78</td>\n",
       "      <td>244.7</td>\n",
       "      <td>91</td>\n",
       "      <td>11.01</td>\n",
       "      <td>10.0</td>\n",
       "      <td>3</td>\n",
       "      <td>2.70</td>\n",
       "      <td>1</td>\n",
       "      <td>False.</td>\n",
       "    </tr>\n",
       "    <tr>\n",
       "      <th>1</th>\n",
       "      <td>OH</td>\n",
       "      <td>107</td>\n",
       "      <td>415</td>\n",
       "      <td>371-7191</td>\n",
       "      <td>no</td>\n",
       "      <td>yes</td>\n",
       "      <td>26</td>\n",
       "      <td>161.6</td>\n",
       "      <td>123</td>\n",
       "      <td>27.47</td>\n",
       "      <td>...</td>\n",
       "      <td>103</td>\n",
       "      <td>16.62</td>\n",
       "      <td>254.4</td>\n",
       "      <td>103</td>\n",
       "      <td>11.45</td>\n",
       "      <td>13.7</td>\n",
       "      <td>3</td>\n",
       "      <td>3.70</td>\n",
       "      <td>1</td>\n",
       "      <td>False.</td>\n",
       "    </tr>\n",
       "    <tr>\n",
       "      <th>2</th>\n",
       "      <td>NJ</td>\n",
       "      <td>137</td>\n",
       "      <td>415</td>\n",
       "      <td>358-1921</td>\n",
       "      <td>no</td>\n",
       "      <td>no</td>\n",
       "      <td>0</td>\n",
       "      <td>243.4</td>\n",
       "      <td>114</td>\n",
       "      <td>41.38</td>\n",
       "      <td>...</td>\n",
       "      <td>110</td>\n",
       "      <td>10.30</td>\n",
       "      <td>162.6</td>\n",
       "      <td>104</td>\n",
       "      <td>7.32</td>\n",
       "      <td>12.2</td>\n",
       "      <td>5</td>\n",
       "      <td>3.29</td>\n",
       "      <td>0</td>\n",
       "      <td>False.</td>\n",
       "    </tr>\n",
       "    <tr>\n",
       "      <th>3</th>\n",
       "      <td>OH</td>\n",
       "      <td>84</td>\n",
       "      <td>408</td>\n",
       "      <td>375-9999</td>\n",
       "      <td>yes</td>\n",
       "      <td>no</td>\n",
       "      <td>0</td>\n",
       "      <td>299.4</td>\n",
       "      <td>71</td>\n",
       "      <td>50.90</td>\n",
       "      <td>...</td>\n",
       "      <td>88</td>\n",
       "      <td>5.26</td>\n",
       "      <td>196.9</td>\n",
       "      <td>89</td>\n",
       "      <td>8.86</td>\n",
       "      <td>6.6</td>\n",
       "      <td>7</td>\n",
       "      <td>1.78</td>\n",
       "      <td>2</td>\n",
       "      <td>False.</td>\n",
       "    </tr>\n",
       "    <tr>\n",
       "      <th>4</th>\n",
       "      <td>OK</td>\n",
       "      <td>75</td>\n",
       "      <td>415</td>\n",
       "      <td>330-6626</td>\n",
       "      <td>yes</td>\n",
       "      <td>no</td>\n",
       "      <td>0</td>\n",
       "      <td>166.7</td>\n",
       "      <td>113</td>\n",
       "      <td>28.34</td>\n",
       "      <td>...</td>\n",
       "      <td>122</td>\n",
       "      <td>12.61</td>\n",
       "      <td>186.9</td>\n",
       "      <td>121</td>\n",
       "      <td>8.41</td>\n",
       "      <td>10.1</td>\n",
       "      <td>3</td>\n",
       "      <td>2.73</td>\n",
       "      <td>3</td>\n",
       "      <td>False.</td>\n",
       "    </tr>\n",
       "    <tr>\n",
       "      <th>5</th>\n",
       "      <td>AL</td>\n",
       "      <td>118</td>\n",
       "      <td>510</td>\n",
       "      <td>391-8027</td>\n",
       "      <td>yes</td>\n",
       "      <td>no</td>\n",
       "      <td>0</td>\n",
       "      <td>223.4</td>\n",
       "      <td>98</td>\n",
       "      <td>37.98</td>\n",
       "      <td>...</td>\n",
       "      <td>101</td>\n",
       "      <td>18.75</td>\n",
       "      <td>203.9</td>\n",
       "      <td>118</td>\n",
       "      <td>9.18</td>\n",
       "      <td>6.3</td>\n",
       "      <td>6</td>\n",
       "      <td>1.70</td>\n",
       "      <td>0</td>\n",
       "      <td>False.</td>\n",
       "    </tr>\n",
       "    <tr>\n",
       "      <th>6</th>\n",
       "      <td>MA</td>\n",
       "      <td>121</td>\n",
       "      <td>510</td>\n",
       "      <td>355-9993</td>\n",
       "      <td>no</td>\n",
       "      <td>yes</td>\n",
       "      <td>24</td>\n",
       "      <td>218.2</td>\n",
       "      <td>88</td>\n",
       "      <td>37.09</td>\n",
       "      <td>...</td>\n",
       "      <td>108</td>\n",
       "      <td>29.62</td>\n",
       "      <td>212.6</td>\n",
       "      <td>118</td>\n",
       "      <td>9.57</td>\n",
       "      <td>7.5</td>\n",
       "      <td>7</td>\n",
       "      <td>2.03</td>\n",
       "      <td>3</td>\n",
       "      <td>False.</td>\n",
       "    </tr>\n",
       "    <tr>\n",
       "      <th>7</th>\n",
       "      <td>MO</td>\n",
       "      <td>147</td>\n",
       "      <td>415</td>\n",
       "      <td>329-9001</td>\n",
       "      <td>yes</td>\n",
       "      <td>no</td>\n",
       "      <td>0</td>\n",
       "      <td>157.0</td>\n",
       "      <td>79</td>\n",
       "      <td>26.69</td>\n",
       "      <td>...</td>\n",
       "      <td>94</td>\n",
       "      <td>8.76</td>\n",
       "      <td>211.8</td>\n",
       "      <td>96</td>\n",
       "      <td>9.53</td>\n",
       "      <td>7.1</td>\n",
       "      <td>6</td>\n",
       "      <td>1.92</td>\n",
       "      <td>0</td>\n",
       "      <td>False.</td>\n",
       "    </tr>\n",
       "    <tr>\n",
       "      <th>8</th>\n",
       "      <td>LA</td>\n",
       "      <td>117</td>\n",
       "      <td>408</td>\n",
       "      <td>335-4719</td>\n",
       "      <td>no</td>\n",
       "      <td>no</td>\n",
       "      <td>0</td>\n",
       "      <td>184.5</td>\n",
       "      <td>97</td>\n",
       "      <td>31.37</td>\n",
       "      <td>...</td>\n",
       "      <td>80</td>\n",
       "      <td>29.89</td>\n",
       "      <td>215.8</td>\n",
       "      <td>90</td>\n",
       "      <td>9.71</td>\n",
       "      <td>8.7</td>\n",
       "      <td>4</td>\n",
       "      <td>2.35</td>\n",
       "      <td>1</td>\n",
       "      <td>False.</td>\n",
       "    </tr>\n",
       "    <tr>\n",
       "      <th>9</th>\n",
       "      <td>WV</td>\n",
       "      <td>141</td>\n",
       "      <td>415</td>\n",
       "      <td>330-8173</td>\n",
       "      <td>yes</td>\n",
       "      <td>yes</td>\n",
       "      <td>37</td>\n",
       "      <td>258.6</td>\n",
       "      <td>84</td>\n",
       "      <td>43.96</td>\n",
       "      <td>...</td>\n",
       "      <td>111</td>\n",
       "      <td>18.87</td>\n",
       "      <td>326.4</td>\n",
       "      <td>97</td>\n",
       "      <td>14.69</td>\n",
       "      <td>11.2</td>\n",
       "      <td>5</td>\n",
       "      <td>3.02</td>\n",
       "      <td>0</td>\n",
       "      <td>False.</td>\n",
       "    </tr>\n",
       "    <tr>\n",
       "      <th>10</th>\n",
       "      <td>IN</td>\n",
       "      <td>65</td>\n",
       "      <td>415</td>\n",
       "      <td>329-6603</td>\n",
       "      <td>no</td>\n",
       "      <td>no</td>\n",
       "      <td>0</td>\n",
       "      <td>129.1</td>\n",
       "      <td>137</td>\n",
       "      <td>21.95</td>\n",
       "      <td>...</td>\n",
       "      <td>83</td>\n",
       "      <td>19.42</td>\n",
       "      <td>208.8</td>\n",
       "      <td>111</td>\n",
       "      <td>9.40</td>\n",
       "      <td>12.7</td>\n",
       "      <td>6</td>\n",
       "      <td>3.43</td>\n",
       "      <td>4</td>\n",
       "      <td>True.</td>\n",
       "    </tr>\n",
       "    <tr>\n",
       "      <th>11</th>\n",
       "      <td>RI</td>\n",
       "      <td>74</td>\n",
       "      <td>415</td>\n",
       "      <td>344-9403</td>\n",
       "      <td>no</td>\n",
       "      <td>no</td>\n",
       "      <td>0</td>\n",
       "      <td>187.7</td>\n",
       "      <td>127</td>\n",
       "      <td>31.91</td>\n",
       "      <td>...</td>\n",
       "      <td>148</td>\n",
       "      <td>13.89</td>\n",
       "      <td>196.0</td>\n",
       "      <td>94</td>\n",
       "      <td>8.82</td>\n",
       "      <td>9.1</td>\n",
       "      <td>5</td>\n",
       "      <td>2.46</td>\n",
       "      <td>0</td>\n",
       "      <td>False.</td>\n",
       "    </tr>\n",
       "    <tr>\n",
       "      <th>12</th>\n",
       "      <td>IA</td>\n",
       "      <td>168</td>\n",
       "      <td>408</td>\n",
       "      <td>363-1107</td>\n",
       "      <td>no</td>\n",
       "      <td>no</td>\n",
       "      <td>0</td>\n",
       "      <td>128.8</td>\n",
       "      <td>96</td>\n",
       "      <td>21.90</td>\n",
       "      <td>...</td>\n",
       "      <td>71</td>\n",
       "      <td>8.92</td>\n",
       "      <td>141.1</td>\n",
       "      <td>128</td>\n",
       "      <td>6.35</td>\n",
       "      <td>11.2</td>\n",
       "      <td>2</td>\n",
       "      <td>3.02</td>\n",
       "      <td>1</td>\n",
       "      <td>False.</td>\n",
       "    </tr>\n",
       "    <tr>\n",
       "      <th>13</th>\n",
       "      <td>MT</td>\n",
       "      <td>95</td>\n",
       "      <td>510</td>\n",
       "      <td>394-8006</td>\n",
       "      <td>no</td>\n",
       "      <td>no</td>\n",
       "      <td>0</td>\n",
       "      <td>156.6</td>\n",
       "      <td>88</td>\n",
       "      <td>26.62</td>\n",
       "      <td>...</td>\n",
       "      <td>75</td>\n",
       "      <td>21.05</td>\n",
       "      <td>192.3</td>\n",
       "      <td>115</td>\n",
       "      <td>8.65</td>\n",
       "      <td>12.3</td>\n",
       "      <td>5</td>\n",
       "      <td>3.32</td>\n",
       "      <td>3</td>\n",
       "      <td>False.</td>\n",
       "    </tr>\n",
       "    <tr>\n",
       "      <th>14</th>\n",
       "      <td>IA</td>\n",
       "      <td>62</td>\n",
       "      <td>415</td>\n",
       "      <td>366-9238</td>\n",
       "      <td>no</td>\n",
       "      <td>no</td>\n",
       "      <td>0</td>\n",
       "      <td>120.7</td>\n",
       "      <td>70</td>\n",
       "      <td>20.52</td>\n",
       "      <td>...</td>\n",
       "      <td>76</td>\n",
       "      <td>26.11</td>\n",
       "      <td>203.0</td>\n",
       "      <td>99</td>\n",
       "      <td>9.14</td>\n",
       "      <td>13.1</td>\n",
       "      <td>6</td>\n",
       "      <td>3.54</td>\n",
       "      <td>4</td>\n",
       "      <td>False.</td>\n",
       "    </tr>\n",
       "    <tr>\n",
       "      <th>15</th>\n",
       "      <td>NY</td>\n",
       "      <td>161</td>\n",
       "      <td>415</td>\n",
       "      <td>351-7269</td>\n",
       "      <td>no</td>\n",
       "      <td>no</td>\n",
       "      <td>0</td>\n",
       "      <td>332.9</td>\n",
       "      <td>67</td>\n",
       "      <td>56.59</td>\n",
       "      <td>...</td>\n",
       "      <td>97</td>\n",
       "      <td>27.01</td>\n",
       "      <td>160.6</td>\n",
       "      <td>128</td>\n",
       "      <td>7.23</td>\n",
       "      <td>5.4</td>\n",
       "      <td>9</td>\n",
       "      <td>1.46</td>\n",
       "      <td>4</td>\n",
       "      <td>True.</td>\n",
       "    </tr>\n",
       "    <tr>\n",
       "      <th>16</th>\n",
       "      <td>ID</td>\n",
       "      <td>85</td>\n",
       "      <td>408</td>\n",
       "      <td>350-8884</td>\n",
       "      <td>no</td>\n",
       "      <td>yes</td>\n",
       "      <td>27</td>\n",
       "      <td>196.4</td>\n",
       "      <td>139</td>\n",
       "      <td>33.39</td>\n",
       "      <td>...</td>\n",
       "      <td>90</td>\n",
       "      <td>23.88</td>\n",
       "      <td>89.3</td>\n",
       "      <td>75</td>\n",
       "      <td>4.02</td>\n",
       "      <td>13.8</td>\n",
       "      <td>4</td>\n",
       "      <td>3.73</td>\n",
       "      <td>1</td>\n",
       "      <td>False.</td>\n",
       "    </tr>\n",
       "    <tr>\n",
       "      <th>17</th>\n",
       "      <td>VT</td>\n",
       "      <td>93</td>\n",
       "      <td>510</td>\n",
       "      <td>386-2923</td>\n",
       "      <td>no</td>\n",
       "      <td>no</td>\n",
       "      <td>0</td>\n",
       "      <td>190.7</td>\n",
       "      <td>114</td>\n",
       "      <td>32.42</td>\n",
       "      <td>...</td>\n",
       "      <td>111</td>\n",
       "      <td>18.55</td>\n",
       "      <td>129.6</td>\n",
       "      <td>121</td>\n",
       "      <td>5.83</td>\n",
       "      <td>8.1</td>\n",
       "      <td>3</td>\n",
       "      <td>2.19</td>\n",
       "      <td>3</td>\n",
       "      <td>False.</td>\n",
       "    </tr>\n",
       "    <tr>\n",
       "      <th>18</th>\n",
       "      <td>VA</td>\n",
       "      <td>76</td>\n",
       "      <td>510</td>\n",
       "      <td>356-2992</td>\n",
       "      <td>no</td>\n",
       "      <td>yes</td>\n",
       "      <td>33</td>\n",
       "      <td>189.7</td>\n",
       "      <td>66</td>\n",
       "      <td>32.25</td>\n",
       "      <td>...</td>\n",
       "      <td>65</td>\n",
       "      <td>18.09</td>\n",
       "      <td>165.7</td>\n",
       "      <td>108</td>\n",
       "      <td>7.46</td>\n",
       "      <td>10.0</td>\n",
       "      <td>5</td>\n",
       "      <td>2.70</td>\n",
       "      <td>1</td>\n",
       "      <td>False.</td>\n",
       "    </tr>\n",
       "    <tr>\n",
       "      <th>19</th>\n",
       "      <td>TX</td>\n",
       "      <td>73</td>\n",
       "      <td>415</td>\n",
       "      <td>373-2782</td>\n",
       "      <td>no</td>\n",
       "      <td>no</td>\n",
       "      <td>0</td>\n",
       "      <td>224.4</td>\n",
       "      <td>90</td>\n",
       "      <td>38.15</td>\n",
       "      <td>...</td>\n",
       "      <td>88</td>\n",
       "      <td>13.56</td>\n",
       "      <td>192.8</td>\n",
       "      <td>74</td>\n",
       "      <td>8.68</td>\n",
       "      <td>13.0</td>\n",
       "      <td>2</td>\n",
       "      <td>3.51</td>\n",
       "      <td>1</td>\n",
       "      <td>False.</td>\n",
       "    </tr>\n",
       "    <tr>\n",
       "      <th>20</th>\n",
       "      <td>FL</td>\n",
       "      <td>147</td>\n",
       "      <td>415</td>\n",
       "      <td>396-5800</td>\n",
       "      <td>no</td>\n",
       "      <td>no</td>\n",
       "      <td>0</td>\n",
       "      <td>155.1</td>\n",
       "      <td>117</td>\n",
       "      <td>26.37</td>\n",
       "      <td>...</td>\n",
       "      <td>93</td>\n",
       "      <td>20.37</td>\n",
       "      <td>208.8</td>\n",
       "      <td>133</td>\n",
       "      <td>9.40</td>\n",
       "      <td>10.6</td>\n",
       "      <td>4</td>\n",
       "      <td>2.86</td>\n",
       "      <td>0</td>\n",
       "      <td>False.</td>\n",
       "    </tr>\n",
       "    <tr>\n",
       "      <th>21</th>\n",
       "      <td>CO</td>\n",
       "      <td>77</td>\n",
       "      <td>408</td>\n",
       "      <td>393-7984</td>\n",
       "      <td>no</td>\n",
       "      <td>no</td>\n",
       "      <td>0</td>\n",
       "      <td>62.4</td>\n",
       "      <td>89</td>\n",
       "      <td>10.61</td>\n",
       "      <td>...</td>\n",
       "      <td>121</td>\n",
       "      <td>14.44</td>\n",
       "      <td>209.6</td>\n",
       "      <td>64</td>\n",
       "      <td>9.43</td>\n",
       "      <td>5.7</td>\n",
       "      <td>6</td>\n",
       "      <td>1.54</td>\n",
       "      <td>5</td>\n",
       "      <td>True.</td>\n",
       "    </tr>\n",
       "    <tr>\n",
       "      <th>22</th>\n",
       "      <td>AZ</td>\n",
       "      <td>130</td>\n",
       "      <td>415</td>\n",
       "      <td>358-1958</td>\n",
       "      <td>no</td>\n",
       "      <td>no</td>\n",
       "      <td>0</td>\n",
       "      <td>183.0</td>\n",
       "      <td>112</td>\n",
       "      <td>31.11</td>\n",
       "      <td>...</td>\n",
       "      <td>99</td>\n",
       "      <td>6.20</td>\n",
       "      <td>181.8</td>\n",
       "      <td>78</td>\n",
       "      <td>8.18</td>\n",
       "      <td>9.5</td>\n",
       "      <td>19</td>\n",
       "      <td>2.57</td>\n",
       "      <td>0</td>\n",
       "      <td>False.</td>\n",
       "    </tr>\n",
       "    <tr>\n",
       "      <th>23</th>\n",
       "      <td>SC</td>\n",
       "      <td>111</td>\n",
       "      <td>415</td>\n",
       "      <td>350-2565</td>\n",
       "      <td>no</td>\n",
       "      <td>no</td>\n",
       "      <td>0</td>\n",
       "      <td>110.4</td>\n",
       "      <td>103</td>\n",
       "      <td>18.77</td>\n",
       "      <td>...</td>\n",
       "      <td>102</td>\n",
       "      <td>11.67</td>\n",
       "      <td>189.6</td>\n",
       "      <td>105</td>\n",
       "      <td>8.53</td>\n",
       "      <td>7.7</td>\n",
       "      <td>6</td>\n",
       "      <td>2.08</td>\n",
       "      <td>2</td>\n",
       "      <td>False.</td>\n",
       "    </tr>\n",
       "    <tr>\n",
       "      <th>24</th>\n",
       "      <td>VA</td>\n",
       "      <td>132</td>\n",
       "      <td>510</td>\n",
       "      <td>343-4696</td>\n",
       "      <td>no</td>\n",
       "      <td>no</td>\n",
       "      <td>0</td>\n",
       "      <td>81.1</td>\n",
       "      <td>86</td>\n",
       "      <td>13.79</td>\n",
       "      <td>...</td>\n",
       "      <td>72</td>\n",
       "      <td>20.84</td>\n",
       "      <td>237.0</td>\n",
       "      <td>115</td>\n",
       "      <td>10.67</td>\n",
       "      <td>10.3</td>\n",
       "      <td>2</td>\n",
       "      <td>2.78</td>\n",
       "      <td>0</td>\n",
       "      <td>False.</td>\n",
       "    </tr>\n",
       "    <tr>\n",
       "      <th>25</th>\n",
       "      <td>NE</td>\n",
       "      <td>174</td>\n",
       "      <td>415</td>\n",
       "      <td>331-3698</td>\n",
       "      <td>no</td>\n",
       "      <td>no</td>\n",
       "      <td>0</td>\n",
       "      <td>124.3</td>\n",
       "      <td>76</td>\n",
       "      <td>21.13</td>\n",
       "      <td>...</td>\n",
       "      <td>112</td>\n",
       "      <td>23.55</td>\n",
       "      <td>250.7</td>\n",
       "      <td>115</td>\n",
       "      <td>11.28</td>\n",
       "      <td>15.5</td>\n",
       "      <td>5</td>\n",
       "      <td>4.19</td>\n",
       "      <td>3</td>\n",
       "      <td>False.</td>\n",
       "    </tr>\n",
       "    <tr>\n",
       "      <th>26</th>\n",
       "      <td>WY</td>\n",
       "      <td>57</td>\n",
       "      <td>408</td>\n",
       "      <td>357-3817</td>\n",
       "      <td>no</td>\n",
       "      <td>yes</td>\n",
       "      <td>39</td>\n",
       "      <td>213.0</td>\n",
       "      <td>115</td>\n",
       "      <td>36.21</td>\n",
       "      <td>...</td>\n",
       "      <td>112</td>\n",
       "      <td>16.24</td>\n",
       "      <td>182.7</td>\n",
       "      <td>115</td>\n",
       "      <td>8.22</td>\n",
       "      <td>9.5</td>\n",
       "      <td>3</td>\n",
       "      <td>2.57</td>\n",
       "      <td>0</td>\n",
       "      <td>False.</td>\n",
       "    </tr>\n",
       "    <tr>\n",
       "      <th>27</th>\n",
       "      <td>MT</td>\n",
       "      <td>54</td>\n",
       "      <td>408</td>\n",
       "      <td>418-6412</td>\n",
       "      <td>no</td>\n",
       "      <td>no</td>\n",
       "      <td>0</td>\n",
       "      <td>134.3</td>\n",
       "      <td>73</td>\n",
       "      <td>22.83</td>\n",
       "      <td>...</td>\n",
       "      <td>100</td>\n",
       "      <td>13.22</td>\n",
       "      <td>102.1</td>\n",
       "      <td>68</td>\n",
       "      <td>4.59</td>\n",
       "      <td>14.7</td>\n",
       "      <td>4</td>\n",
       "      <td>3.97</td>\n",
       "      <td>3</td>\n",
       "      <td>False.</td>\n",
       "    </tr>\n",
       "    <tr>\n",
       "      <th>28</th>\n",
       "      <td>MO</td>\n",
       "      <td>20</td>\n",
       "      <td>415</td>\n",
       "      <td>353-2630</td>\n",
       "      <td>no</td>\n",
       "      <td>no</td>\n",
       "      <td>0</td>\n",
       "      <td>190.0</td>\n",
       "      <td>109</td>\n",
       "      <td>32.30</td>\n",
       "      <td>...</td>\n",
       "      <td>84</td>\n",
       "      <td>21.95</td>\n",
       "      <td>181.5</td>\n",
       "      <td>102</td>\n",
       "      <td>8.17</td>\n",
       "      <td>6.3</td>\n",
       "      <td>6</td>\n",
       "      <td>1.70</td>\n",
       "      <td>0</td>\n",
       "      <td>False.</td>\n",
       "    </tr>\n",
       "    <tr>\n",
       "      <th>29</th>\n",
       "      <td>HI</td>\n",
       "      <td>49</td>\n",
       "      <td>510</td>\n",
       "      <td>410-7789</td>\n",
       "      <td>no</td>\n",
       "      <td>no</td>\n",
       "      <td>0</td>\n",
       "      <td>119.3</td>\n",
       "      <td>117</td>\n",
       "      <td>20.28</td>\n",
       "      <td>...</td>\n",
       "      <td>109</td>\n",
       "      <td>18.28</td>\n",
       "      <td>178.7</td>\n",
       "      <td>90</td>\n",
       "      <td>8.04</td>\n",
       "      <td>11.1</td>\n",
       "      <td>1</td>\n",
       "      <td>3.00</td>\n",
       "      <td>1</td>\n",
       "      <td>False.</td>\n",
       "    </tr>\n",
       "    <tr>\n",
       "      <th>...</th>\n",
       "      <td>...</td>\n",
       "      <td>...</td>\n",
       "      <td>...</td>\n",
       "      <td>...</td>\n",
       "      <td>...</td>\n",
       "      <td>...</td>\n",
       "      <td>...</td>\n",
       "      <td>...</td>\n",
       "      <td>...</td>\n",
       "      <td>...</td>\n",
       "      <td>...</td>\n",
       "      <td>...</td>\n",
       "      <td>...</td>\n",
       "      <td>...</td>\n",
       "      <td>...</td>\n",
       "      <td>...</td>\n",
       "      <td>...</td>\n",
       "      <td>...</td>\n",
       "      <td>...</td>\n",
       "      <td>...</td>\n",
       "      <td>...</td>\n",
       "    </tr>\n",
       "    <tr>\n",
       "      <th>3303</th>\n",
       "      <td>WI</td>\n",
       "      <td>114</td>\n",
       "      <td>415</td>\n",
       "      <td>373-7308</td>\n",
       "      <td>no</td>\n",
       "      <td>yes</td>\n",
       "      <td>26</td>\n",
       "      <td>137.1</td>\n",
       "      <td>88</td>\n",
       "      <td>23.31</td>\n",
       "      <td>...</td>\n",
       "      <td>125</td>\n",
       "      <td>13.23</td>\n",
       "      <td>247.6</td>\n",
       "      <td>94</td>\n",
       "      <td>11.14</td>\n",
       "      <td>11.5</td>\n",
       "      <td>7</td>\n",
       "      <td>3.11</td>\n",
       "      <td>2</td>\n",
       "      <td>False.</td>\n",
       "    </tr>\n",
       "    <tr>\n",
       "      <th>3304</th>\n",
       "      <td>IL</td>\n",
       "      <td>71</td>\n",
       "      <td>510</td>\n",
       "      <td>330-7137</td>\n",
       "      <td>yes</td>\n",
       "      <td>no</td>\n",
       "      <td>0</td>\n",
       "      <td>186.1</td>\n",
       "      <td>114</td>\n",
       "      <td>31.64</td>\n",
       "      <td>...</td>\n",
       "      <td>140</td>\n",
       "      <td>16.88</td>\n",
       "      <td>206.5</td>\n",
       "      <td>80</td>\n",
       "      <td>9.29</td>\n",
       "      <td>13.8</td>\n",
       "      <td>5</td>\n",
       "      <td>3.73</td>\n",
       "      <td>4</td>\n",
       "      <td>True.</td>\n",
       "    </tr>\n",
       "    <tr>\n",
       "      <th>3305</th>\n",
       "      <td>IN</td>\n",
       "      <td>58</td>\n",
       "      <td>415</td>\n",
       "      <td>406-8445</td>\n",
       "      <td>no</td>\n",
       "      <td>yes</td>\n",
       "      <td>22</td>\n",
       "      <td>224.1</td>\n",
       "      <td>127</td>\n",
       "      <td>38.10</td>\n",
       "      <td>...</td>\n",
       "      <td>85</td>\n",
       "      <td>20.30</td>\n",
       "      <td>174.2</td>\n",
       "      <td>86</td>\n",
       "      <td>7.84</td>\n",
       "      <td>11.5</td>\n",
       "      <td>7</td>\n",
       "      <td>3.11</td>\n",
       "      <td>2</td>\n",
       "      <td>False.</td>\n",
       "    </tr>\n",
       "    <tr>\n",
       "      <th>3306</th>\n",
       "      <td>AL</td>\n",
       "      <td>106</td>\n",
       "      <td>408</td>\n",
       "      <td>404-5283</td>\n",
       "      <td>no</td>\n",
       "      <td>yes</td>\n",
       "      <td>29</td>\n",
       "      <td>83.6</td>\n",
       "      <td>131</td>\n",
       "      <td>14.21</td>\n",
       "      <td>...</td>\n",
       "      <td>131</td>\n",
       "      <td>17.33</td>\n",
       "      <td>229.5</td>\n",
       "      <td>73</td>\n",
       "      <td>10.33</td>\n",
       "      <td>8.1</td>\n",
       "      <td>3</td>\n",
       "      <td>2.19</td>\n",
       "      <td>1</td>\n",
       "      <td>False.</td>\n",
       "    </tr>\n",
       "    <tr>\n",
       "      <th>3307</th>\n",
       "      <td>OK</td>\n",
       "      <td>172</td>\n",
       "      <td>408</td>\n",
       "      <td>398-3632</td>\n",
       "      <td>no</td>\n",
       "      <td>no</td>\n",
       "      <td>0</td>\n",
       "      <td>203.9</td>\n",
       "      <td>109</td>\n",
       "      <td>34.66</td>\n",
       "      <td>...</td>\n",
       "      <td>123</td>\n",
       "      <td>19.89</td>\n",
       "      <td>160.7</td>\n",
       "      <td>65</td>\n",
       "      <td>7.23</td>\n",
       "      <td>17.8</td>\n",
       "      <td>4</td>\n",
       "      <td>4.81</td>\n",
       "      <td>4</td>\n",
       "      <td>False.</td>\n",
       "    </tr>\n",
       "    <tr>\n",
       "      <th>3308</th>\n",
       "      <td>IA</td>\n",
       "      <td>45</td>\n",
       "      <td>415</td>\n",
       "      <td>399-5763</td>\n",
       "      <td>no</td>\n",
       "      <td>no</td>\n",
       "      <td>0</td>\n",
       "      <td>211.3</td>\n",
       "      <td>87</td>\n",
       "      <td>35.92</td>\n",
       "      <td>...</td>\n",
       "      <td>97</td>\n",
       "      <td>14.08</td>\n",
       "      <td>265.9</td>\n",
       "      <td>72</td>\n",
       "      <td>11.97</td>\n",
       "      <td>13.3</td>\n",
       "      <td>6</td>\n",
       "      <td>3.59</td>\n",
       "      <td>1</td>\n",
       "      <td>False.</td>\n",
       "    </tr>\n",
       "    <tr>\n",
       "      <th>3309</th>\n",
       "      <td>VT</td>\n",
       "      <td>100</td>\n",
       "      <td>408</td>\n",
       "      <td>340-9449</td>\n",
       "      <td>yes</td>\n",
       "      <td>no</td>\n",
       "      <td>0</td>\n",
       "      <td>219.4</td>\n",
       "      <td>112</td>\n",
       "      <td>37.30</td>\n",
       "      <td>...</td>\n",
       "      <td>102</td>\n",
       "      <td>19.18</td>\n",
       "      <td>255.3</td>\n",
       "      <td>95</td>\n",
       "      <td>11.49</td>\n",
       "      <td>12.0</td>\n",
       "      <td>4</td>\n",
       "      <td>3.24</td>\n",
       "      <td>4</td>\n",
       "      <td>False.</td>\n",
       "    </tr>\n",
       "    <tr>\n",
       "      <th>3310</th>\n",
       "      <td>NY</td>\n",
       "      <td>94</td>\n",
       "      <td>415</td>\n",
       "      <td>363-1123</td>\n",
       "      <td>no</td>\n",
       "      <td>no</td>\n",
       "      <td>0</td>\n",
       "      <td>190.4</td>\n",
       "      <td>91</td>\n",
       "      <td>32.37</td>\n",
       "      <td>...</td>\n",
       "      <td>107</td>\n",
       "      <td>7.82</td>\n",
       "      <td>224.8</td>\n",
       "      <td>108</td>\n",
       "      <td>10.12</td>\n",
       "      <td>13.6</td>\n",
       "      <td>17</td>\n",
       "      <td>3.67</td>\n",
       "      <td>2</td>\n",
       "      <td>False.</td>\n",
       "    </tr>\n",
       "    <tr>\n",
       "      <th>3311</th>\n",
       "      <td>LA</td>\n",
       "      <td>128</td>\n",
       "      <td>415</td>\n",
       "      <td>361-2170</td>\n",
       "      <td>no</td>\n",
       "      <td>no</td>\n",
       "      <td>0</td>\n",
       "      <td>147.7</td>\n",
       "      <td>94</td>\n",
       "      <td>25.11</td>\n",
       "      <td>...</td>\n",
       "      <td>83</td>\n",
       "      <td>24.08</td>\n",
       "      <td>188.3</td>\n",
       "      <td>124</td>\n",
       "      <td>8.47</td>\n",
       "      <td>6.9</td>\n",
       "      <td>5</td>\n",
       "      <td>1.86</td>\n",
       "      <td>2</td>\n",
       "      <td>False.</td>\n",
       "    </tr>\n",
       "    <tr>\n",
       "      <th>3312</th>\n",
       "      <td>SC</td>\n",
       "      <td>181</td>\n",
       "      <td>408</td>\n",
       "      <td>406-6304</td>\n",
       "      <td>no</td>\n",
       "      <td>no</td>\n",
       "      <td>0</td>\n",
       "      <td>229.9</td>\n",
       "      <td>130</td>\n",
       "      <td>39.08</td>\n",
       "      <td>...</td>\n",
       "      <td>93</td>\n",
       "      <td>12.27</td>\n",
       "      <td>262.4</td>\n",
       "      <td>110</td>\n",
       "      <td>11.81</td>\n",
       "      <td>14.2</td>\n",
       "      <td>4</td>\n",
       "      <td>3.83</td>\n",
       "      <td>2</td>\n",
       "      <td>False.</td>\n",
       "    </tr>\n",
       "    <tr>\n",
       "      <th>3313</th>\n",
       "      <td>ID</td>\n",
       "      <td>127</td>\n",
       "      <td>408</td>\n",
       "      <td>392-5090</td>\n",
       "      <td>no</td>\n",
       "      <td>no</td>\n",
       "      <td>0</td>\n",
       "      <td>102.8</td>\n",
       "      <td>128</td>\n",
       "      <td>17.48</td>\n",
       "      <td>...</td>\n",
       "      <td>95</td>\n",
       "      <td>12.21</td>\n",
       "      <td>191.4</td>\n",
       "      <td>97</td>\n",
       "      <td>8.61</td>\n",
       "      <td>10.0</td>\n",
       "      <td>5</td>\n",
       "      <td>2.70</td>\n",
       "      <td>1</td>\n",
       "      <td>False.</td>\n",
       "    </tr>\n",
       "    <tr>\n",
       "      <th>3314</th>\n",
       "      <td>MO</td>\n",
       "      <td>89</td>\n",
       "      <td>415</td>\n",
       "      <td>373-7713</td>\n",
       "      <td>no</td>\n",
       "      <td>no</td>\n",
       "      <td>0</td>\n",
       "      <td>178.7</td>\n",
       "      <td>81</td>\n",
       "      <td>30.38</td>\n",
       "      <td>...</td>\n",
       "      <td>74</td>\n",
       "      <td>19.86</td>\n",
       "      <td>131.9</td>\n",
       "      <td>120</td>\n",
       "      <td>5.94</td>\n",
       "      <td>9.1</td>\n",
       "      <td>4</td>\n",
       "      <td>2.46</td>\n",
       "      <td>1</td>\n",
       "      <td>False.</td>\n",
       "    </tr>\n",
       "    <tr>\n",
       "      <th>3315</th>\n",
       "      <td>ME</td>\n",
       "      <td>149</td>\n",
       "      <td>415</td>\n",
       "      <td>392-1376</td>\n",
       "      <td>no</td>\n",
       "      <td>yes</td>\n",
       "      <td>18</td>\n",
       "      <td>148.5</td>\n",
       "      <td>106</td>\n",
       "      <td>25.25</td>\n",
       "      <td>...</td>\n",
       "      <td>106</td>\n",
       "      <td>9.73</td>\n",
       "      <td>178.3</td>\n",
       "      <td>98</td>\n",
       "      <td>8.02</td>\n",
       "      <td>6.5</td>\n",
       "      <td>4</td>\n",
       "      <td>1.76</td>\n",
       "      <td>0</td>\n",
       "      <td>False.</td>\n",
       "    </tr>\n",
       "    <tr>\n",
       "      <th>3316</th>\n",
       "      <td>MS</td>\n",
       "      <td>103</td>\n",
       "      <td>510</td>\n",
       "      <td>390-6388</td>\n",
       "      <td>no</td>\n",
       "      <td>yes</td>\n",
       "      <td>29</td>\n",
       "      <td>164.1</td>\n",
       "      <td>111</td>\n",
       "      <td>27.90</td>\n",
       "      <td>...</td>\n",
       "      <td>96</td>\n",
       "      <td>18.62</td>\n",
       "      <td>220.3</td>\n",
       "      <td>108</td>\n",
       "      <td>9.91</td>\n",
       "      <td>12.3</td>\n",
       "      <td>9</td>\n",
       "      <td>3.32</td>\n",
       "      <td>0</td>\n",
       "      <td>False.</td>\n",
       "    </tr>\n",
       "    <tr>\n",
       "      <th>3317</th>\n",
       "      <td>SD</td>\n",
       "      <td>163</td>\n",
       "      <td>415</td>\n",
       "      <td>379-7290</td>\n",
       "      <td>yes</td>\n",
       "      <td>no</td>\n",
       "      <td>0</td>\n",
       "      <td>197.2</td>\n",
       "      <td>90</td>\n",
       "      <td>33.52</td>\n",
       "      <td>...</td>\n",
       "      <td>113</td>\n",
       "      <td>16.02</td>\n",
       "      <td>211.1</td>\n",
       "      <td>94</td>\n",
       "      <td>9.50</td>\n",
       "      <td>7.8</td>\n",
       "      <td>8</td>\n",
       "      <td>2.11</td>\n",
       "      <td>1</td>\n",
       "      <td>False.</td>\n",
       "    </tr>\n",
       "    <tr>\n",
       "      <th>3318</th>\n",
       "      <td>OK</td>\n",
       "      <td>52</td>\n",
       "      <td>415</td>\n",
       "      <td>397-9928</td>\n",
       "      <td>no</td>\n",
       "      <td>no</td>\n",
       "      <td>0</td>\n",
       "      <td>124.9</td>\n",
       "      <td>131</td>\n",
       "      <td>21.23</td>\n",
       "      <td>...</td>\n",
       "      <td>118</td>\n",
       "      <td>25.54</td>\n",
       "      <td>192.5</td>\n",
       "      <td>106</td>\n",
       "      <td>8.66</td>\n",
       "      <td>11.6</td>\n",
       "      <td>4</td>\n",
       "      <td>3.13</td>\n",
       "      <td>2</td>\n",
       "      <td>False.</td>\n",
       "    </tr>\n",
       "    <tr>\n",
       "      <th>3319</th>\n",
       "      <td>WY</td>\n",
       "      <td>89</td>\n",
       "      <td>415</td>\n",
       "      <td>378-6924</td>\n",
       "      <td>no</td>\n",
       "      <td>no</td>\n",
       "      <td>0</td>\n",
       "      <td>115.4</td>\n",
       "      <td>99</td>\n",
       "      <td>19.62</td>\n",
       "      <td>...</td>\n",
       "      <td>115</td>\n",
       "      <td>17.84</td>\n",
       "      <td>280.9</td>\n",
       "      <td>112</td>\n",
       "      <td>12.64</td>\n",
       "      <td>15.9</td>\n",
       "      <td>6</td>\n",
       "      <td>4.29</td>\n",
       "      <td>3</td>\n",
       "      <td>False.</td>\n",
       "    </tr>\n",
       "    <tr>\n",
       "      <th>3320</th>\n",
       "      <td>GA</td>\n",
       "      <td>122</td>\n",
       "      <td>510</td>\n",
       "      <td>411-5677</td>\n",
       "      <td>yes</td>\n",
       "      <td>no</td>\n",
       "      <td>0</td>\n",
       "      <td>140.0</td>\n",
       "      <td>101</td>\n",
       "      <td>23.80</td>\n",
       "      <td>...</td>\n",
       "      <td>77</td>\n",
       "      <td>16.69</td>\n",
       "      <td>120.1</td>\n",
       "      <td>133</td>\n",
       "      <td>5.40</td>\n",
       "      <td>9.7</td>\n",
       "      <td>4</td>\n",
       "      <td>2.62</td>\n",
       "      <td>4</td>\n",
       "      <td>True.</td>\n",
       "    </tr>\n",
       "    <tr>\n",
       "      <th>3321</th>\n",
       "      <td>VT</td>\n",
       "      <td>60</td>\n",
       "      <td>415</td>\n",
       "      <td>400-2738</td>\n",
       "      <td>no</td>\n",
       "      <td>no</td>\n",
       "      <td>0</td>\n",
       "      <td>193.9</td>\n",
       "      <td>118</td>\n",
       "      <td>32.96</td>\n",
       "      <td>...</td>\n",
       "      <td>110</td>\n",
       "      <td>7.23</td>\n",
       "      <td>210.1</td>\n",
       "      <td>134</td>\n",
       "      <td>9.45</td>\n",
       "      <td>13.2</td>\n",
       "      <td>8</td>\n",
       "      <td>3.56</td>\n",
       "      <td>3</td>\n",
       "      <td>False.</td>\n",
       "    </tr>\n",
       "    <tr>\n",
       "      <th>3322</th>\n",
       "      <td>MD</td>\n",
       "      <td>62</td>\n",
       "      <td>408</td>\n",
       "      <td>409-1856</td>\n",
       "      <td>no</td>\n",
       "      <td>no</td>\n",
       "      <td>0</td>\n",
       "      <td>321.1</td>\n",
       "      <td>105</td>\n",
       "      <td>54.59</td>\n",
       "      <td>...</td>\n",
       "      <td>122</td>\n",
       "      <td>22.57</td>\n",
       "      <td>180.5</td>\n",
       "      <td>72</td>\n",
       "      <td>8.12</td>\n",
       "      <td>11.5</td>\n",
       "      <td>2</td>\n",
       "      <td>3.11</td>\n",
       "      <td>4</td>\n",
       "      <td>True.</td>\n",
       "    </tr>\n",
       "    <tr>\n",
       "      <th>3323</th>\n",
       "      <td>IN</td>\n",
       "      <td>117</td>\n",
       "      <td>415</td>\n",
       "      <td>362-5899</td>\n",
       "      <td>no</td>\n",
       "      <td>no</td>\n",
       "      <td>0</td>\n",
       "      <td>118.4</td>\n",
       "      <td>126</td>\n",
       "      <td>20.13</td>\n",
       "      <td>...</td>\n",
       "      <td>97</td>\n",
       "      <td>21.19</td>\n",
       "      <td>227.0</td>\n",
       "      <td>56</td>\n",
       "      <td>10.22</td>\n",
       "      <td>13.6</td>\n",
       "      <td>3</td>\n",
       "      <td>3.67</td>\n",
       "      <td>5</td>\n",
       "      <td>True.</td>\n",
       "    </tr>\n",
       "    <tr>\n",
       "      <th>3324</th>\n",
       "      <td>WV</td>\n",
       "      <td>159</td>\n",
       "      <td>415</td>\n",
       "      <td>377-1164</td>\n",
       "      <td>no</td>\n",
       "      <td>no</td>\n",
       "      <td>0</td>\n",
       "      <td>169.8</td>\n",
       "      <td>114</td>\n",
       "      <td>28.87</td>\n",
       "      <td>...</td>\n",
       "      <td>105</td>\n",
       "      <td>16.80</td>\n",
       "      <td>193.7</td>\n",
       "      <td>82</td>\n",
       "      <td>8.72</td>\n",
       "      <td>11.6</td>\n",
       "      <td>4</td>\n",
       "      <td>3.13</td>\n",
       "      <td>1</td>\n",
       "      <td>False.</td>\n",
       "    </tr>\n",
       "    <tr>\n",
       "      <th>3325</th>\n",
       "      <td>OH</td>\n",
       "      <td>78</td>\n",
       "      <td>408</td>\n",
       "      <td>368-8555</td>\n",
       "      <td>no</td>\n",
       "      <td>no</td>\n",
       "      <td>0</td>\n",
       "      <td>193.4</td>\n",
       "      <td>99</td>\n",
       "      <td>32.88</td>\n",
       "      <td>...</td>\n",
       "      <td>88</td>\n",
       "      <td>9.94</td>\n",
       "      <td>243.3</td>\n",
       "      <td>109</td>\n",
       "      <td>10.95</td>\n",
       "      <td>9.3</td>\n",
       "      <td>4</td>\n",
       "      <td>2.51</td>\n",
       "      <td>2</td>\n",
       "      <td>False.</td>\n",
       "    </tr>\n",
       "    <tr>\n",
       "      <th>3326</th>\n",
       "      <td>OH</td>\n",
       "      <td>96</td>\n",
       "      <td>415</td>\n",
       "      <td>347-6812</td>\n",
       "      <td>no</td>\n",
       "      <td>no</td>\n",
       "      <td>0</td>\n",
       "      <td>106.6</td>\n",
       "      <td>128</td>\n",
       "      <td>18.12</td>\n",
       "      <td>...</td>\n",
       "      <td>87</td>\n",
       "      <td>24.21</td>\n",
       "      <td>178.9</td>\n",
       "      <td>92</td>\n",
       "      <td>8.05</td>\n",
       "      <td>14.9</td>\n",
       "      <td>7</td>\n",
       "      <td>4.02</td>\n",
       "      <td>1</td>\n",
       "      <td>False.</td>\n",
       "    </tr>\n",
       "    <tr>\n",
       "      <th>3327</th>\n",
       "      <td>SC</td>\n",
       "      <td>79</td>\n",
       "      <td>415</td>\n",
       "      <td>348-3830</td>\n",
       "      <td>no</td>\n",
       "      <td>no</td>\n",
       "      <td>0</td>\n",
       "      <td>134.7</td>\n",
       "      <td>98</td>\n",
       "      <td>22.90</td>\n",
       "      <td>...</td>\n",
       "      <td>68</td>\n",
       "      <td>16.12</td>\n",
       "      <td>221.4</td>\n",
       "      <td>128</td>\n",
       "      <td>9.96</td>\n",
       "      <td>11.8</td>\n",
       "      <td>5</td>\n",
       "      <td>3.19</td>\n",
       "      <td>2</td>\n",
       "      <td>False.</td>\n",
       "    </tr>\n",
       "    <tr>\n",
       "      <th>3328</th>\n",
       "      <td>AZ</td>\n",
       "      <td>192</td>\n",
       "      <td>415</td>\n",
       "      <td>414-4276</td>\n",
       "      <td>no</td>\n",
       "      <td>yes</td>\n",
       "      <td>36</td>\n",
       "      <td>156.2</td>\n",
       "      <td>77</td>\n",
       "      <td>26.55</td>\n",
       "      <td>...</td>\n",
       "      <td>126</td>\n",
       "      <td>18.32</td>\n",
       "      <td>279.1</td>\n",
       "      <td>83</td>\n",
       "      <td>12.56</td>\n",
       "      <td>9.9</td>\n",
       "      <td>6</td>\n",
       "      <td>2.67</td>\n",
       "      <td>2</td>\n",
       "      <td>False.</td>\n",
       "    </tr>\n",
       "    <tr>\n",
       "      <th>3329</th>\n",
       "      <td>WV</td>\n",
       "      <td>68</td>\n",
       "      <td>415</td>\n",
       "      <td>370-3271</td>\n",
       "      <td>no</td>\n",
       "      <td>no</td>\n",
       "      <td>0</td>\n",
       "      <td>231.1</td>\n",
       "      <td>57</td>\n",
       "      <td>39.29</td>\n",
       "      <td>...</td>\n",
       "      <td>55</td>\n",
       "      <td>13.04</td>\n",
       "      <td>191.3</td>\n",
       "      <td>123</td>\n",
       "      <td>8.61</td>\n",
       "      <td>9.6</td>\n",
       "      <td>4</td>\n",
       "      <td>2.59</td>\n",
       "      <td>3</td>\n",
       "      <td>False.</td>\n",
       "    </tr>\n",
       "    <tr>\n",
       "      <th>3330</th>\n",
       "      <td>RI</td>\n",
       "      <td>28</td>\n",
       "      <td>510</td>\n",
       "      <td>328-8230</td>\n",
       "      <td>no</td>\n",
       "      <td>no</td>\n",
       "      <td>0</td>\n",
       "      <td>180.8</td>\n",
       "      <td>109</td>\n",
       "      <td>30.74</td>\n",
       "      <td>...</td>\n",
       "      <td>58</td>\n",
       "      <td>24.55</td>\n",
       "      <td>191.9</td>\n",
       "      <td>91</td>\n",
       "      <td>8.64</td>\n",
       "      <td>14.1</td>\n",
       "      <td>6</td>\n",
       "      <td>3.81</td>\n",
       "      <td>2</td>\n",
       "      <td>False.</td>\n",
       "    </tr>\n",
       "    <tr>\n",
       "      <th>3331</th>\n",
       "      <td>CT</td>\n",
       "      <td>184</td>\n",
       "      <td>510</td>\n",
       "      <td>364-6381</td>\n",
       "      <td>yes</td>\n",
       "      <td>no</td>\n",
       "      <td>0</td>\n",
       "      <td>213.8</td>\n",
       "      <td>105</td>\n",
       "      <td>36.35</td>\n",
       "      <td>...</td>\n",
       "      <td>84</td>\n",
       "      <td>13.57</td>\n",
       "      <td>139.2</td>\n",
       "      <td>137</td>\n",
       "      <td>6.26</td>\n",
       "      <td>5.0</td>\n",
       "      <td>10</td>\n",
       "      <td>1.35</td>\n",
       "      <td>2</td>\n",
       "      <td>False.</td>\n",
       "    </tr>\n",
       "    <tr>\n",
       "      <th>3332</th>\n",
       "      <td>TN</td>\n",
       "      <td>74</td>\n",
       "      <td>415</td>\n",
       "      <td>400-4344</td>\n",
       "      <td>no</td>\n",
       "      <td>yes</td>\n",
       "      <td>25</td>\n",
       "      <td>234.4</td>\n",
       "      <td>113</td>\n",
       "      <td>39.85</td>\n",
       "      <td>...</td>\n",
       "      <td>82</td>\n",
       "      <td>22.60</td>\n",
       "      <td>241.4</td>\n",
       "      <td>77</td>\n",
       "      <td>10.86</td>\n",
       "      <td>13.7</td>\n",
       "      <td>4</td>\n",
       "      <td>3.70</td>\n",
       "      <td>0</td>\n",
       "      <td>False.</td>\n",
       "    </tr>\n",
       "  </tbody>\n",
       "</table>\n",
       "<p>3333 rows × 21 columns</p>\n",
       "</div>"
      ],
      "text/plain": [
       "     State  Account Length  Area Code     Phone Int'l Plan VMail Plan  \\\n",
       "0       KS             128        415  382-4657         no        yes   \n",
       "1       OH             107        415  371-7191         no        yes   \n",
       "2       NJ             137        415  358-1921         no         no   \n",
       "3       OH              84        408  375-9999        yes         no   \n",
       "4       OK              75        415  330-6626        yes         no   \n",
       "5       AL             118        510  391-8027        yes         no   \n",
       "6       MA             121        510  355-9993         no        yes   \n",
       "7       MO             147        415  329-9001        yes         no   \n",
       "8       LA             117        408  335-4719         no         no   \n",
       "9       WV             141        415  330-8173        yes        yes   \n",
       "10      IN              65        415  329-6603         no         no   \n",
       "11      RI              74        415  344-9403         no         no   \n",
       "12      IA             168        408  363-1107         no         no   \n",
       "13      MT              95        510  394-8006         no         no   \n",
       "14      IA              62        415  366-9238         no         no   \n",
       "15      NY             161        415  351-7269         no         no   \n",
       "16      ID              85        408  350-8884         no        yes   \n",
       "17      VT              93        510  386-2923         no         no   \n",
       "18      VA              76        510  356-2992         no        yes   \n",
       "19      TX              73        415  373-2782         no         no   \n",
       "20      FL             147        415  396-5800         no         no   \n",
       "21      CO              77        408  393-7984         no         no   \n",
       "22      AZ             130        415  358-1958         no         no   \n",
       "23      SC             111        415  350-2565         no         no   \n",
       "24      VA             132        510  343-4696         no         no   \n",
       "25      NE             174        415  331-3698         no         no   \n",
       "26      WY              57        408  357-3817         no        yes   \n",
       "27      MT              54        408  418-6412         no         no   \n",
       "28      MO              20        415  353-2630         no         no   \n",
       "29      HI              49        510  410-7789         no         no   \n",
       "...    ...             ...        ...       ...        ...        ...   \n",
       "3303    WI             114        415  373-7308         no        yes   \n",
       "3304    IL              71        510  330-7137        yes         no   \n",
       "3305    IN              58        415  406-8445         no        yes   \n",
       "3306    AL             106        408  404-5283         no        yes   \n",
       "3307    OK             172        408  398-3632         no         no   \n",
       "3308    IA              45        415  399-5763         no         no   \n",
       "3309    VT             100        408  340-9449        yes         no   \n",
       "3310    NY              94        415  363-1123         no         no   \n",
       "3311    LA             128        415  361-2170         no         no   \n",
       "3312    SC             181        408  406-6304         no         no   \n",
       "3313    ID             127        408  392-5090         no         no   \n",
       "3314    MO              89        415  373-7713         no         no   \n",
       "3315    ME             149        415  392-1376         no        yes   \n",
       "3316    MS             103        510  390-6388         no        yes   \n",
       "3317    SD             163        415  379-7290        yes         no   \n",
       "3318    OK              52        415  397-9928         no         no   \n",
       "3319    WY              89        415  378-6924         no         no   \n",
       "3320    GA             122        510  411-5677        yes         no   \n",
       "3321    VT              60        415  400-2738         no         no   \n",
       "3322    MD              62        408  409-1856         no         no   \n",
       "3323    IN             117        415  362-5899         no         no   \n",
       "3324    WV             159        415  377-1164         no         no   \n",
       "3325    OH              78        408  368-8555         no         no   \n",
       "3326    OH              96        415  347-6812         no         no   \n",
       "3327    SC              79        415  348-3830         no         no   \n",
       "3328    AZ             192        415  414-4276         no        yes   \n",
       "3329    WV              68        415  370-3271         no         no   \n",
       "3330    RI              28        510  328-8230         no         no   \n",
       "3331    CT             184        510  364-6381        yes         no   \n",
       "3332    TN              74        415  400-4344         no        yes   \n",
       "\n",
       "      VMail Message  Day Mins  Day Calls  Day Charge  ...  Eve Calls  \\\n",
       "0                25     265.1        110       45.07  ...         99   \n",
       "1                26     161.6        123       27.47  ...        103   \n",
       "2                 0     243.4        114       41.38  ...        110   \n",
       "3                 0     299.4         71       50.90  ...         88   \n",
       "4                 0     166.7        113       28.34  ...        122   \n",
       "5                 0     223.4         98       37.98  ...        101   \n",
       "6                24     218.2         88       37.09  ...        108   \n",
       "7                 0     157.0         79       26.69  ...         94   \n",
       "8                 0     184.5         97       31.37  ...         80   \n",
       "9                37     258.6         84       43.96  ...        111   \n",
       "10                0     129.1        137       21.95  ...         83   \n",
       "11                0     187.7        127       31.91  ...        148   \n",
       "12                0     128.8         96       21.90  ...         71   \n",
       "13                0     156.6         88       26.62  ...         75   \n",
       "14                0     120.7         70       20.52  ...         76   \n",
       "15                0     332.9         67       56.59  ...         97   \n",
       "16               27     196.4        139       33.39  ...         90   \n",
       "17                0     190.7        114       32.42  ...        111   \n",
       "18               33     189.7         66       32.25  ...         65   \n",
       "19                0     224.4         90       38.15  ...         88   \n",
       "20                0     155.1        117       26.37  ...         93   \n",
       "21                0      62.4         89       10.61  ...        121   \n",
       "22                0     183.0        112       31.11  ...         99   \n",
       "23                0     110.4        103       18.77  ...        102   \n",
       "24                0      81.1         86       13.79  ...         72   \n",
       "25                0     124.3         76       21.13  ...        112   \n",
       "26               39     213.0        115       36.21  ...        112   \n",
       "27                0     134.3         73       22.83  ...        100   \n",
       "28                0     190.0        109       32.30  ...         84   \n",
       "29                0     119.3        117       20.28  ...        109   \n",
       "...             ...       ...        ...         ...  ...        ...   \n",
       "3303             26     137.1         88       23.31  ...        125   \n",
       "3304              0     186.1        114       31.64  ...        140   \n",
       "3305             22     224.1        127       38.10  ...         85   \n",
       "3306             29      83.6        131       14.21  ...        131   \n",
       "3307              0     203.9        109       34.66  ...        123   \n",
       "3308              0     211.3         87       35.92  ...         97   \n",
       "3309              0     219.4        112       37.30  ...        102   \n",
       "3310              0     190.4         91       32.37  ...        107   \n",
       "3311              0     147.7         94       25.11  ...         83   \n",
       "3312              0     229.9        130       39.08  ...         93   \n",
       "3313              0     102.8        128       17.48  ...         95   \n",
       "3314              0     178.7         81       30.38  ...         74   \n",
       "3315             18     148.5        106       25.25  ...        106   \n",
       "3316             29     164.1        111       27.90  ...         96   \n",
       "3317              0     197.2         90       33.52  ...        113   \n",
       "3318              0     124.9        131       21.23  ...        118   \n",
       "3319              0     115.4         99       19.62  ...        115   \n",
       "3320              0     140.0        101       23.80  ...         77   \n",
       "3321              0     193.9        118       32.96  ...        110   \n",
       "3322              0     321.1        105       54.59  ...        122   \n",
       "3323              0     118.4        126       20.13  ...         97   \n",
       "3324              0     169.8        114       28.87  ...        105   \n",
       "3325              0     193.4         99       32.88  ...         88   \n",
       "3326              0     106.6        128       18.12  ...         87   \n",
       "3327              0     134.7         98       22.90  ...         68   \n",
       "3328             36     156.2         77       26.55  ...        126   \n",
       "3329              0     231.1         57       39.29  ...         55   \n",
       "3330              0     180.8        109       30.74  ...         58   \n",
       "3331              0     213.8        105       36.35  ...         84   \n",
       "3332             25     234.4        113       39.85  ...         82   \n",
       "\n",
       "      Eve Charge  Night Mins  Night Calls  Night Charge  Intl Mins  \\\n",
       "0          16.78       244.7           91         11.01       10.0   \n",
       "1          16.62       254.4          103         11.45       13.7   \n",
       "2          10.30       162.6          104          7.32       12.2   \n",
       "3           5.26       196.9           89          8.86        6.6   \n",
       "4          12.61       186.9          121          8.41       10.1   \n",
       "5          18.75       203.9          118          9.18        6.3   \n",
       "6          29.62       212.6          118          9.57        7.5   \n",
       "7           8.76       211.8           96          9.53        7.1   \n",
       "8          29.89       215.8           90          9.71        8.7   \n",
       "9          18.87       326.4           97         14.69       11.2   \n",
       "10         19.42       208.8          111          9.40       12.7   \n",
       "11         13.89       196.0           94          8.82        9.1   \n",
       "12          8.92       141.1          128          6.35       11.2   \n",
       "13         21.05       192.3          115          8.65       12.3   \n",
       "14         26.11       203.0           99          9.14       13.1   \n",
       "15         27.01       160.6          128          7.23        5.4   \n",
       "16         23.88        89.3           75          4.02       13.8   \n",
       "17         18.55       129.6          121          5.83        8.1   \n",
       "18         18.09       165.7          108          7.46       10.0   \n",
       "19         13.56       192.8           74          8.68       13.0   \n",
       "20         20.37       208.8          133          9.40       10.6   \n",
       "21         14.44       209.6           64          9.43        5.7   \n",
       "22          6.20       181.8           78          8.18        9.5   \n",
       "23         11.67       189.6          105          8.53        7.7   \n",
       "24         20.84       237.0          115         10.67       10.3   \n",
       "25         23.55       250.7          115         11.28       15.5   \n",
       "26         16.24       182.7          115          8.22        9.5   \n",
       "27         13.22       102.1           68          4.59       14.7   \n",
       "28         21.95       181.5          102          8.17        6.3   \n",
       "29         18.28       178.7           90          8.04       11.1   \n",
       "...          ...         ...          ...           ...        ...   \n",
       "3303       13.23       247.6           94         11.14       11.5   \n",
       "3304       16.88       206.5           80          9.29       13.8   \n",
       "3305       20.30       174.2           86          7.84       11.5   \n",
       "3306       17.33       229.5           73         10.33        8.1   \n",
       "3307       19.89       160.7           65          7.23       17.8   \n",
       "3308       14.08       265.9           72         11.97       13.3   \n",
       "3309       19.18       255.3           95         11.49       12.0   \n",
       "3310        7.82       224.8          108         10.12       13.6   \n",
       "3311       24.08       188.3          124          8.47        6.9   \n",
       "3312       12.27       262.4          110         11.81       14.2   \n",
       "3313       12.21       191.4           97          8.61       10.0   \n",
       "3314       19.86       131.9          120          5.94        9.1   \n",
       "3315        9.73       178.3           98          8.02        6.5   \n",
       "3316       18.62       220.3          108          9.91       12.3   \n",
       "3317       16.02       211.1           94          9.50        7.8   \n",
       "3318       25.54       192.5          106          8.66       11.6   \n",
       "3319       17.84       280.9          112         12.64       15.9   \n",
       "3320       16.69       120.1          133          5.40        9.7   \n",
       "3321        7.23       210.1          134          9.45       13.2   \n",
       "3322       22.57       180.5           72          8.12       11.5   \n",
       "3323       21.19       227.0           56         10.22       13.6   \n",
       "3324       16.80       193.7           82          8.72       11.6   \n",
       "3325        9.94       243.3          109         10.95        9.3   \n",
       "3326       24.21       178.9           92          8.05       14.9   \n",
       "3327       16.12       221.4          128          9.96       11.8   \n",
       "3328       18.32       279.1           83         12.56        9.9   \n",
       "3329       13.04       191.3          123          8.61        9.6   \n",
       "3330       24.55       191.9           91          8.64       14.1   \n",
       "3331       13.57       139.2          137          6.26        5.0   \n",
       "3332       22.60       241.4           77         10.86       13.7   \n",
       "\n",
       "      Intl Calls  Intl Charge  CustServ Calls  Churn?  \n",
       "0              3         2.70               1  False.  \n",
       "1              3         3.70               1  False.  \n",
       "2              5         3.29               0  False.  \n",
       "3              7         1.78               2  False.  \n",
       "4              3         2.73               3  False.  \n",
       "5              6         1.70               0  False.  \n",
       "6              7         2.03               3  False.  \n",
       "7              6         1.92               0  False.  \n",
       "8              4         2.35               1  False.  \n",
       "9              5         3.02               0  False.  \n",
       "10             6         3.43               4   True.  \n",
       "11             5         2.46               0  False.  \n",
       "12             2         3.02               1  False.  \n",
       "13             5         3.32               3  False.  \n",
       "14             6         3.54               4  False.  \n",
       "15             9         1.46               4   True.  \n",
       "16             4         3.73               1  False.  \n",
       "17             3         2.19               3  False.  \n",
       "18             5         2.70               1  False.  \n",
       "19             2         3.51               1  False.  \n",
       "20             4         2.86               0  False.  \n",
       "21             6         1.54               5   True.  \n",
       "22            19         2.57               0  False.  \n",
       "23             6         2.08               2  False.  \n",
       "24             2         2.78               0  False.  \n",
       "25             5         4.19               3  False.  \n",
       "26             3         2.57               0  False.  \n",
       "27             4         3.97               3  False.  \n",
       "28             6         1.70               0  False.  \n",
       "29             1         3.00               1  False.  \n",
       "...          ...          ...             ...     ...  \n",
       "3303           7         3.11               2  False.  \n",
       "3304           5         3.73               4   True.  \n",
       "3305           7         3.11               2  False.  \n",
       "3306           3         2.19               1  False.  \n",
       "3307           4         4.81               4  False.  \n",
       "3308           6         3.59               1  False.  \n",
       "3309           4         3.24               4  False.  \n",
       "3310          17         3.67               2  False.  \n",
       "3311           5         1.86               2  False.  \n",
       "3312           4         3.83               2  False.  \n",
       "3313           5         2.70               1  False.  \n",
       "3314           4         2.46               1  False.  \n",
       "3315           4         1.76               0  False.  \n",
       "3316           9         3.32               0  False.  \n",
       "3317           8         2.11               1  False.  \n",
       "3318           4         3.13               2  False.  \n",
       "3319           6         4.29               3  False.  \n",
       "3320           4         2.62               4   True.  \n",
       "3321           8         3.56               3  False.  \n",
       "3322           2         3.11               4   True.  \n",
       "3323           3         3.67               5   True.  \n",
       "3324           4         3.13               1  False.  \n",
       "3325           4         2.51               2  False.  \n",
       "3326           7         4.02               1  False.  \n",
       "3327           5         3.19               2  False.  \n",
       "3328           6         2.67               2  False.  \n",
       "3329           4         2.59               3  False.  \n",
       "3330           6         3.81               2  False.  \n",
       "3331          10         1.35               2  False.  \n",
       "3332           4         3.70               0  False.  \n",
       "\n",
       "[3333 rows x 21 columns]"
      ]
     },
     "execution_count": 37,
     "metadata": {},
     "output_type": "execute_result"
    }
   ],
   "source": [
    "df"
   ]
  },
  {
   "cell_type": "code",
   "execution_count": 41,
   "metadata": {
    "ExecuteTime": {
     "end_time": "2019-05-27T19:42:05.312364Z",
     "start_time": "2019-05-27T19:42:05.308361Z"
    }
   },
   "outputs": [],
   "source": [
    "outfile2 = mainpath+\"/customer-churn-model/Customer Churn Model.csv\""
   ]
  },
  {
   "cell_type": "code",
   "execution_count": 40,
   "metadata": {
    "ExecuteTime": {
     "end_time": "2019-05-27T19:41:30.871924Z",
     "start_time": "2019-05-27T19:41:30.581356Z"
    }
   },
   "outputs": [
    {
     "ename": "FileNotFoundError",
     "evalue": "[Errno 2] File b'/Users/jaldoj/Documents/Developer/python-ml-course/datasets/customer-churn-model/Tab Customer Churn Model.csv' does not exist: b'/Users/jaldoj/Documents/Developer/python-ml-course/datasets/customer-churn-model/Tab Customer Churn Model.csv'",
     "output_type": "error",
     "traceback": [
      "\u001b[1;31m---------------------------------------------------------------------------\u001b[0m",
      "\u001b[1;31mFileNotFoundError\u001b[0m                         Traceback (most recent call last)",
      "\u001b[1;32m<ipython-input-40-d6326f079026>\u001b[0m in \u001b[0;36m<module>\u001b[1;34m\u001b[0m\n\u001b[1;32m----> 1\u001b[1;33m \u001b[0mdf1\u001b[0m\u001b[1;33m=\u001b[0m\u001b[0mpd\u001b[0m\u001b[1;33m.\u001b[0m\u001b[0mread_csv\u001b[0m\u001b[1;33m(\u001b[0m\u001b[0moutfile2\u001b[0m\u001b[1;33m,\u001b[0m\u001b[0msep\u001b[0m\u001b[1;33m=\u001b[0m\u001b[1;34m\"\\t\"\u001b[0m\u001b[1;33m)\u001b[0m\u001b[1;33m\u001b[0m\u001b[1;33m\u001b[0m\u001b[0m\n\u001b[0m",
      "\u001b[1;32m~\\AppData\\Local\\Continuum\\anaconda3\\envs\\cursoML\\lib\\site-packages\\pandas\\io\\parsers.py\u001b[0m in \u001b[0;36mparser_f\u001b[1;34m(filepath_or_buffer, sep, delimiter, header, names, index_col, usecols, squeeze, prefix, mangle_dupe_cols, dtype, engine, converters, true_values, false_values, skipinitialspace, skiprows, skipfooter, nrows, na_values, keep_default_na, na_filter, verbose, skip_blank_lines, parse_dates, infer_datetime_format, keep_date_col, date_parser, dayfirst, iterator, chunksize, compression, thousands, decimal, lineterminator, quotechar, quoting, doublequote, escapechar, comment, encoding, dialect, tupleize_cols, error_bad_lines, warn_bad_lines, delim_whitespace, low_memory, memory_map, float_precision)\u001b[0m\n\u001b[0;32m    700\u001b[0m                     skip_blank_lines=skip_blank_lines)\n\u001b[0;32m    701\u001b[0m \u001b[1;33m\u001b[0m\u001b[0m\n\u001b[1;32m--> 702\u001b[1;33m         \u001b[1;32mreturn\u001b[0m \u001b[0m_read\u001b[0m\u001b[1;33m(\u001b[0m\u001b[0mfilepath_or_buffer\u001b[0m\u001b[1;33m,\u001b[0m \u001b[0mkwds\u001b[0m\u001b[1;33m)\u001b[0m\u001b[1;33m\u001b[0m\u001b[1;33m\u001b[0m\u001b[0m\n\u001b[0m\u001b[0;32m    703\u001b[0m \u001b[1;33m\u001b[0m\u001b[0m\n\u001b[0;32m    704\u001b[0m     \u001b[0mparser_f\u001b[0m\u001b[1;33m.\u001b[0m\u001b[0m__name__\u001b[0m \u001b[1;33m=\u001b[0m \u001b[0mname\u001b[0m\u001b[1;33m\u001b[0m\u001b[1;33m\u001b[0m\u001b[0m\n",
      "\u001b[1;32m~\\AppData\\Local\\Continuum\\anaconda3\\envs\\cursoML\\lib\\site-packages\\pandas\\io\\parsers.py\u001b[0m in \u001b[0;36m_read\u001b[1;34m(filepath_or_buffer, kwds)\u001b[0m\n\u001b[0;32m    427\u001b[0m \u001b[1;33m\u001b[0m\u001b[0m\n\u001b[0;32m    428\u001b[0m     \u001b[1;31m# Create the parser.\u001b[0m\u001b[1;33m\u001b[0m\u001b[1;33m\u001b[0m\u001b[1;33m\u001b[0m\u001b[0m\n\u001b[1;32m--> 429\u001b[1;33m     \u001b[0mparser\u001b[0m \u001b[1;33m=\u001b[0m \u001b[0mTextFileReader\u001b[0m\u001b[1;33m(\u001b[0m\u001b[0mfilepath_or_buffer\u001b[0m\u001b[1;33m,\u001b[0m \u001b[1;33m**\u001b[0m\u001b[0mkwds\u001b[0m\u001b[1;33m)\u001b[0m\u001b[1;33m\u001b[0m\u001b[1;33m\u001b[0m\u001b[0m\n\u001b[0m\u001b[0;32m    430\u001b[0m \u001b[1;33m\u001b[0m\u001b[0m\n\u001b[0;32m    431\u001b[0m     \u001b[1;32mif\u001b[0m \u001b[0mchunksize\u001b[0m \u001b[1;32mor\u001b[0m \u001b[0miterator\u001b[0m\u001b[1;33m:\u001b[0m\u001b[1;33m\u001b[0m\u001b[1;33m\u001b[0m\u001b[0m\n",
      "\u001b[1;32m~\\AppData\\Local\\Continuum\\anaconda3\\envs\\cursoML\\lib\\site-packages\\pandas\\io\\parsers.py\u001b[0m in \u001b[0;36m__init__\u001b[1;34m(self, f, engine, **kwds)\u001b[0m\n\u001b[0;32m    893\u001b[0m             \u001b[0mself\u001b[0m\u001b[1;33m.\u001b[0m\u001b[0moptions\u001b[0m\u001b[1;33m[\u001b[0m\u001b[1;34m'has_index_names'\u001b[0m\u001b[1;33m]\u001b[0m \u001b[1;33m=\u001b[0m \u001b[0mkwds\u001b[0m\u001b[1;33m[\u001b[0m\u001b[1;34m'has_index_names'\u001b[0m\u001b[1;33m]\u001b[0m\u001b[1;33m\u001b[0m\u001b[1;33m\u001b[0m\u001b[0m\n\u001b[0;32m    894\u001b[0m \u001b[1;33m\u001b[0m\u001b[0m\n\u001b[1;32m--> 895\u001b[1;33m         \u001b[0mself\u001b[0m\u001b[1;33m.\u001b[0m\u001b[0m_make_engine\u001b[0m\u001b[1;33m(\u001b[0m\u001b[0mself\u001b[0m\u001b[1;33m.\u001b[0m\u001b[0mengine\u001b[0m\u001b[1;33m)\u001b[0m\u001b[1;33m\u001b[0m\u001b[1;33m\u001b[0m\u001b[0m\n\u001b[0m\u001b[0;32m    896\u001b[0m \u001b[1;33m\u001b[0m\u001b[0m\n\u001b[0;32m    897\u001b[0m     \u001b[1;32mdef\u001b[0m \u001b[0mclose\u001b[0m\u001b[1;33m(\u001b[0m\u001b[0mself\u001b[0m\u001b[1;33m)\u001b[0m\u001b[1;33m:\u001b[0m\u001b[1;33m\u001b[0m\u001b[1;33m\u001b[0m\u001b[0m\n",
      "\u001b[1;32m~\\AppData\\Local\\Continuum\\anaconda3\\envs\\cursoML\\lib\\site-packages\\pandas\\io\\parsers.py\u001b[0m in \u001b[0;36m_make_engine\u001b[1;34m(self, engine)\u001b[0m\n\u001b[0;32m   1120\u001b[0m     \u001b[1;32mdef\u001b[0m \u001b[0m_make_engine\u001b[0m\u001b[1;33m(\u001b[0m\u001b[0mself\u001b[0m\u001b[1;33m,\u001b[0m \u001b[0mengine\u001b[0m\u001b[1;33m=\u001b[0m\u001b[1;34m'c'\u001b[0m\u001b[1;33m)\u001b[0m\u001b[1;33m:\u001b[0m\u001b[1;33m\u001b[0m\u001b[1;33m\u001b[0m\u001b[0m\n\u001b[0;32m   1121\u001b[0m         \u001b[1;32mif\u001b[0m \u001b[0mengine\u001b[0m \u001b[1;33m==\u001b[0m \u001b[1;34m'c'\u001b[0m\u001b[1;33m:\u001b[0m\u001b[1;33m\u001b[0m\u001b[1;33m\u001b[0m\u001b[0m\n\u001b[1;32m-> 1122\u001b[1;33m             \u001b[0mself\u001b[0m\u001b[1;33m.\u001b[0m\u001b[0m_engine\u001b[0m \u001b[1;33m=\u001b[0m \u001b[0mCParserWrapper\u001b[0m\u001b[1;33m(\u001b[0m\u001b[0mself\u001b[0m\u001b[1;33m.\u001b[0m\u001b[0mf\u001b[0m\u001b[1;33m,\u001b[0m \u001b[1;33m**\u001b[0m\u001b[0mself\u001b[0m\u001b[1;33m.\u001b[0m\u001b[0moptions\u001b[0m\u001b[1;33m)\u001b[0m\u001b[1;33m\u001b[0m\u001b[1;33m\u001b[0m\u001b[0m\n\u001b[0m\u001b[0;32m   1123\u001b[0m         \u001b[1;32melse\u001b[0m\u001b[1;33m:\u001b[0m\u001b[1;33m\u001b[0m\u001b[1;33m\u001b[0m\u001b[0m\n\u001b[0;32m   1124\u001b[0m             \u001b[1;32mif\u001b[0m \u001b[0mengine\u001b[0m \u001b[1;33m==\u001b[0m \u001b[1;34m'python'\u001b[0m\u001b[1;33m:\u001b[0m\u001b[1;33m\u001b[0m\u001b[1;33m\u001b[0m\u001b[0m\n",
      "\u001b[1;32m~\\AppData\\Local\\Continuum\\anaconda3\\envs\\cursoML\\lib\\site-packages\\pandas\\io\\parsers.py\u001b[0m in \u001b[0;36m__init__\u001b[1;34m(self, src, **kwds)\u001b[0m\n\u001b[0;32m   1851\u001b[0m         \u001b[0mkwds\u001b[0m\u001b[1;33m[\u001b[0m\u001b[1;34m'usecols'\u001b[0m\u001b[1;33m]\u001b[0m \u001b[1;33m=\u001b[0m \u001b[0mself\u001b[0m\u001b[1;33m.\u001b[0m\u001b[0musecols\u001b[0m\u001b[1;33m\u001b[0m\u001b[1;33m\u001b[0m\u001b[0m\n\u001b[0;32m   1852\u001b[0m \u001b[1;33m\u001b[0m\u001b[0m\n\u001b[1;32m-> 1853\u001b[1;33m         \u001b[0mself\u001b[0m\u001b[1;33m.\u001b[0m\u001b[0m_reader\u001b[0m \u001b[1;33m=\u001b[0m \u001b[0mparsers\u001b[0m\u001b[1;33m.\u001b[0m\u001b[0mTextReader\u001b[0m\u001b[1;33m(\u001b[0m\u001b[0msrc\u001b[0m\u001b[1;33m,\u001b[0m \u001b[1;33m**\u001b[0m\u001b[0mkwds\u001b[0m\u001b[1;33m)\u001b[0m\u001b[1;33m\u001b[0m\u001b[1;33m\u001b[0m\u001b[0m\n\u001b[0m\u001b[0;32m   1854\u001b[0m         \u001b[0mself\u001b[0m\u001b[1;33m.\u001b[0m\u001b[0munnamed_cols\u001b[0m \u001b[1;33m=\u001b[0m \u001b[0mself\u001b[0m\u001b[1;33m.\u001b[0m\u001b[0m_reader\u001b[0m\u001b[1;33m.\u001b[0m\u001b[0munnamed_cols\u001b[0m\u001b[1;33m\u001b[0m\u001b[1;33m\u001b[0m\u001b[0m\n\u001b[0;32m   1855\u001b[0m \u001b[1;33m\u001b[0m\u001b[0m\n",
      "\u001b[1;32mpandas\\_libs\\parsers.pyx\u001b[0m in \u001b[0;36mpandas._libs.parsers.TextReader.__cinit__\u001b[1;34m()\u001b[0m\n",
      "\u001b[1;32mpandas\\_libs\\parsers.pyx\u001b[0m in \u001b[0;36mpandas._libs.parsers.TextReader._setup_parser_source\u001b[1;34m()\u001b[0m\n",
      "\u001b[1;31mFileNotFoundError\u001b[0m: [Errno 2] File b'/Users/jaldoj/Documents/Developer/python-ml-course/datasets/customer-churn-model/Tab Customer Churn Model.csv' does not exist: b'/Users/jaldoj/Documents/Developer/python-ml-course/datasets/customer-churn-model/Tab Customer Churn Model.csv'"
     ]
    }
   ],
   "source": [
    "df1=pd.read_csv(outfile2,sep=\"\\t\")"
   ]
  },
  {
   "cell_type": "code",
   "execution_count": 42,
   "metadata": {
    "ExecuteTime": {
     "end_time": "2019-05-27T19:42:29.207255Z",
     "start_time": "2019-05-27T19:42:29.204252Z"
    }
   },
   "outputs": [],
   "source": [
    "outfile2 = mainpath+\"/customer-churn-model/Customer Churn Model.csv\""
   ]
  },
  {
   "cell_type": "code",
   "execution_count": 43,
   "metadata": {
    "ExecuteTime": {
     "end_time": "2019-05-27T19:42:41.630838Z",
     "start_time": "2019-05-27T19:42:41.612820Z"
    }
   },
   "outputs": [],
   "source": [
    "df1=pd.read_csv(outfile2,sep=\"\\t\")"
   ]
  },
  {
   "cell_type": "code",
   "execution_count": 44,
   "metadata": {
    "ExecuteTime": {
     "end_time": "2019-05-27T19:42:48.029410Z",
     "start_time": "2019-05-27T19:42:48.012398Z"
    }
   },
   "outputs": [
    {
     "data": {
      "text/html": [
       "<div>\n",
       "<style scoped>\n",
       "    .dataframe tbody tr th:only-of-type {\n",
       "        vertical-align: middle;\n",
       "    }\n",
       "\n",
       "    .dataframe tbody tr th {\n",
       "        vertical-align: top;\n",
       "    }\n",
       "\n",
       "    .dataframe thead th {\n",
       "        text-align: right;\n",
       "    }\n",
       "</style>\n",
       "<table border=\"1\" class=\"dataframe\">\n",
       "  <thead>\n",
       "    <tr style=\"text-align: right;\">\n",
       "      <th></th>\n",
       "      <th>State,Account Length,Area Code,Phone,Int'l Plan,VMail Plan,VMail Message,Day Mins,Day Calls,Day Charge,Eve Mins,Eve Calls,Eve Charge,Night Mins,Night Calls,Night Charge,Intl Mins,Intl Calls,Intl Charge,CustServ Calls,Churn?</th>\n",
       "    </tr>\n",
       "  </thead>\n",
       "  <tbody>\n",
       "    <tr>\n",
       "      <th>0</th>\n",
       "      <td>KS,128,415,382-4657,no,yes,25,265.100000,110,4...</td>\n",
       "    </tr>\n",
       "    <tr>\n",
       "      <th>1</th>\n",
       "      <td>OH,107,415,371-7191,no,yes,26,161.600000,123,2...</td>\n",
       "    </tr>\n",
       "    <tr>\n",
       "      <th>2</th>\n",
       "      <td>NJ,137,415,358-1921,no,no,0,243.400000,114,41....</td>\n",
       "    </tr>\n",
       "    <tr>\n",
       "      <th>3</th>\n",
       "      <td>OH,84,408,375-9999,yes,no,0,299.400000,71,50.9...</td>\n",
       "    </tr>\n",
       "    <tr>\n",
       "      <th>4</th>\n",
       "      <td>OK,75,415,330-6626,yes,no,0,166.700000,113,28....</td>\n",
       "    </tr>\n",
       "    <tr>\n",
       "      <th>5</th>\n",
       "      <td>AL,118,510,391-8027,yes,no,0,223.400000,98,37....</td>\n",
       "    </tr>\n",
       "    <tr>\n",
       "      <th>6</th>\n",
       "      <td>MA,121,510,355-9993,no,yes,24,218.200000,88,37...</td>\n",
       "    </tr>\n",
       "    <tr>\n",
       "      <th>7</th>\n",
       "      <td>MO,147,415,329-9001,yes,no,0,157.000000,79,26....</td>\n",
       "    </tr>\n",
       "    <tr>\n",
       "      <th>8</th>\n",
       "      <td>LA,117,408,335-4719,no,no,0,184.500000,97,31.3...</td>\n",
       "    </tr>\n",
       "    <tr>\n",
       "      <th>9</th>\n",
       "      <td>WV,141,415,330-8173,yes,yes,37,258.600000,84,4...</td>\n",
       "    </tr>\n",
       "    <tr>\n",
       "      <th>10</th>\n",
       "      <td>IN,65,415,329-6603,no,no,0,129.100000,137,21.9...</td>\n",
       "    </tr>\n",
       "    <tr>\n",
       "      <th>11</th>\n",
       "      <td>RI,74,415,344-9403,no,no,0,187.700000,127,31.9...</td>\n",
       "    </tr>\n",
       "    <tr>\n",
       "      <th>12</th>\n",
       "      <td>IA,168,408,363-1107,no,no,0,128.800000,96,21.9...</td>\n",
       "    </tr>\n",
       "    <tr>\n",
       "      <th>13</th>\n",
       "      <td>MT,95,510,394-8006,no,no,0,156.600000,88,26.62...</td>\n",
       "    </tr>\n",
       "    <tr>\n",
       "      <th>14</th>\n",
       "      <td>IA,62,415,366-9238,no,no,0,120.700000,70,20.52...</td>\n",
       "    </tr>\n",
       "    <tr>\n",
       "      <th>15</th>\n",
       "      <td>NY,161,415,351-7269,no,no,0,332.900000,67,56.5...</td>\n",
       "    </tr>\n",
       "    <tr>\n",
       "      <th>16</th>\n",
       "      <td>ID,85,408,350-8884,no,yes,27,196.400000,139,33...</td>\n",
       "    </tr>\n",
       "    <tr>\n",
       "      <th>17</th>\n",
       "      <td>VT,93,510,386-2923,no,no,0,190.700000,114,32.4...</td>\n",
       "    </tr>\n",
       "    <tr>\n",
       "      <th>18</th>\n",
       "      <td>VA,76,510,356-2992,no,yes,33,189.700000,66,32....</td>\n",
       "    </tr>\n",
       "    <tr>\n",
       "      <th>19</th>\n",
       "      <td>TX,73,415,373-2782,no,no,0,224.400000,90,38.15...</td>\n",
       "    </tr>\n",
       "    <tr>\n",
       "      <th>20</th>\n",
       "      <td>FL,147,415,396-5800,no,no,0,155.100000,117,26....</td>\n",
       "    </tr>\n",
       "    <tr>\n",
       "      <th>21</th>\n",
       "      <td>CO,77,408,393-7984,no,no,0,62.400000,89,10.610...</td>\n",
       "    </tr>\n",
       "    <tr>\n",
       "      <th>22</th>\n",
       "      <td>AZ,130,415,358-1958,no,no,0,183.000000,112,31....</td>\n",
       "    </tr>\n",
       "    <tr>\n",
       "      <th>23</th>\n",
       "      <td>SC,111,415,350-2565,no,no,0,110.400000,103,18....</td>\n",
       "    </tr>\n",
       "    <tr>\n",
       "      <th>24</th>\n",
       "      <td>VA,132,510,343-4696,no,no,0,81.100000,86,13.79...</td>\n",
       "    </tr>\n",
       "    <tr>\n",
       "      <th>25</th>\n",
       "      <td>NE,174,415,331-3698,no,no,0,124.300000,76,21.1...</td>\n",
       "    </tr>\n",
       "    <tr>\n",
       "      <th>26</th>\n",
       "      <td>WY,57,408,357-3817,no,yes,39,213.000000,115,36...</td>\n",
       "    </tr>\n",
       "    <tr>\n",
       "      <th>27</th>\n",
       "      <td>MT,54,408,418-6412,no,no,0,134.300000,73,22.83...</td>\n",
       "    </tr>\n",
       "    <tr>\n",
       "      <th>28</th>\n",
       "      <td>MO,20,415,353-2630,no,no,0,190.000000,109,32.3...</td>\n",
       "    </tr>\n",
       "    <tr>\n",
       "      <th>29</th>\n",
       "      <td>HI,49,510,410-7789,no,no,0,119.300000,117,20.2...</td>\n",
       "    </tr>\n",
       "    <tr>\n",
       "      <th>...</th>\n",
       "      <td>...</td>\n",
       "    </tr>\n",
       "    <tr>\n",
       "      <th>3303</th>\n",
       "      <td>WI,114,415,373-7308,no,yes,26,137.100000,88,23...</td>\n",
       "    </tr>\n",
       "    <tr>\n",
       "      <th>3304</th>\n",
       "      <td>IL,71,510,330-7137,yes,no,0,186.100000,114,31....</td>\n",
       "    </tr>\n",
       "    <tr>\n",
       "      <th>3305</th>\n",
       "      <td>IN,58,415,406-8445,no,yes,22,224.100000,127,38...</td>\n",
       "    </tr>\n",
       "    <tr>\n",
       "      <th>3306</th>\n",
       "      <td>AL,106,408,404-5283,no,yes,29,83.600000,131,14...</td>\n",
       "    </tr>\n",
       "    <tr>\n",
       "      <th>3307</th>\n",
       "      <td>OK,172,408,398-3632,no,no,0,203.900000,109,34....</td>\n",
       "    </tr>\n",
       "    <tr>\n",
       "      <th>3308</th>\n",
       "      <td>IA,45,415,399-5763,no,no,0,211.300000,87,35.92...</td>\n",
       "    </tr>\n",
       "    <tr>\n",
       "      <th>3309</th>\n",
       "      <td>VT,100,408,340-9449,yes,no,0,219.400000,112,37...</td>\n",
       "    </tr>\n",
       "    <tr>\n",
       "      <th>3310</th>\n",
       "      <td>NY,94,415,363-1123,no,no,0,190.400000,91,32.37...</td>\n",
       "    </tr>\n",
       "    <tr>\n",
       "      <th>3311</th>\n",
       "      <td>LA,128,415,361-2170,no,no,0,147.700000,94,25.1...</td>\n",
       "    </tr>\n",
       "    <tr>\n",
       "      <th>3312</th>\n",
       "      <td>SC,181,408,406-6304,no,no,0,229.900000,130,39....</td>\n",
       "    </tr>\n",
       "    <tr>\n",
       "      <th>3313</th>\n",
       "      <td>ID,127,408,392-5090,no,no,0,102.800000,128,17....</td>\n",
       "    </tr>\n",
       "    <tr>\n",
       "      <th>3314</th>\n",
       "      <td>MO,89,415,373-7713,no,no,0,178.700000,81,30.38...</td>\n",
       "    </tr>\n",
       "    <tr>\n",
       "      <th>3315</th>\n",
       "      <td>ME,149,415,392-1376,no,yes,18,148.500000,106,2...</td>\n",
       "    </tr>\n",
       "    <tr>\n",
       "      <th>3316</th>\n",
       "      <td>MS,103,510,390-6388,no,yes,29,164.100000,111,2...</td>\n",
       "    </tr>\n",
       "    <tr>\n",
       "      <th>3317</th>\n",
       "      <td>SD,163,415,379-7290,yes,no,0,197.200000,90,33....</td>\n",
       "    </tr>\n",
       "    <tr>\n",
       "      <th>3318</th>\n",
       "      <td>OK,52,415,397-9928,no,no,0,124.900000,131,21.2...</td>\n",
       "    </tr>\n",
       "    <tr>\n",
       "      <th>3319</th>\n",
       "      <td>WY,89,415,378-6924,no,no,0,115.400000,99,19.62...</td>\n",
       "    </tr>\n",
       "    <tr>\n",
       "      <th>3320</th>\n",
       "      <td>GA,122,510,411-5677,yes,no,0,140.000000,101,23...</td>\n",
       "    </tr>\n",
       "    <tr>\n",
       "      <th>3321</th>\n",
       "      <td>VT,60,415,400-2738,no,no,0,193.900000,118,32.9...</td>\n",
       "    </tr>\n",
       "    <tr>\n",
       "      <th>3322</th>\n",
       "      <td>MD,62,408,409-1856,no,no,0,321.100000,105,54.5...</td>\n",
       "    </tr>\n",
       "    <tr>\n",
       "      <th>3323</th>\n",
       "      <td>IN,117,415,362-5899,no,no,0,118.400000,126,20....</td>\n",
       "    </tr>\n",
       "    <tr>\n",
       "      <th>3324</th>\n",
       "      <td>WV,159,415,377-1164,no,no,0,169.800000,114,28....</td>\n",
       "    </tr>\n",
       "    <tr>\n",
       "      <th>3325</th>\n",
       "      <td>OH,78,408,368-8555,no,no,0,193.400000,99,32.88...</td>\n",
       "    </tr>\n",
       "    <tr>\n",
       "      <th>3326</th>\n",
       "      <td>OH,96,415,347-6812,no,no,0,106.600000,128,18.1...</td>\n",
       "    </tr>\n",
       "    <tr>\n",
       "      <th>3327</th>\n",
       "      <td>SC,79,415,348-3830,no,no,0,134.700000,98,22.90...</td>\n",
       "    </tr>\n",
       "    <tr>\n",
       "      <th>3328</th>\n",
       "      <td>AZ,192,415,414-4276,no,yes,36,156.200000,77,26...</td>\n",
       "    </tr>\n",
       "    <tr>\n",
       "      <th>3329</th>\n",
       "      <td>WV,68,415,370-3271,no,no,0,231.100000,57,39.29...</td>\n",
       "    </tr>\n",
       "    <tr>\n",
       "      <th>3330</th>\n",
       "      <td>RI,28,510,328-8230,no,no,0,180.800000,109,30.7...</td>\n",
       "    </tr>\n",
       "    <tr>\n",
       "      <th>3331</th>\n",
       "      <td>CT,184,510,364-6381,yes,no,0,213.800000,105,36...</td>\n",
       "    </tr>\n",
       "    <tr>\n",
       "      <th>3332</th>\n",
       "      <td>TN,74,415,400-4344,no,yes,25,234.400000,113,39...</td>\n",
       "    </tr>\n",
       "  </tbody>\n",
       "</table>\n",
       "<p>3333 rows × 1 columns</p>\n",
       "</div>"
      ],
      "text/plain": [
       "     State,Account Length,Area Code,Phone,Int'l Plan,VMail Plan,VMail Message,Day Mins,Day Calls,Day Charge,Eve Mins,Eve Calls,Eve Charge,Night Mins,Night Calls,Night Charge,Intl Mins,Intl Calls,Intl Charge,CustServ Calls,Churn?\n",
       "0     KS,128,415,382-4657,no,yes,25,265.100000,110,4...                                                                                                                                                                             \n",
       "1     OH,107,415,371-7191,no,yes,26,161.600000,123,2...                                                                                                                                                                             \n",
       "2     NJ,137,415,358-1921,no,no,0,243.400000,114,41....                                                                                                                                                                             \n",
       "3     OH,84,408,375-9999,yes,no,0,299.400000,71,50.9...                                                                                                                                                                             \n",
       "4     OK,75,415,330-6626,yes,no,0,166.700000,113,28....                                                                                                                                                                             \n",
       "5     AL,118,510,391-8027,yes,no,0,223.400000,98,37....                                                                                                                                                                             \n",
       "6     MA,121,510,355-9993,no,yes,24,218.200000,88,37...                                                                                                                                                                             \n",
       "7     MO,147,415,329-9001,yes,no,0,157.000000,79,26....                                                                                                                                                                             \n",
       "8     LA,117,408,335-4719,no,no,0,184.500000,97,31.3...                                                                                                                                                                             \n",
       "9     WV,141,415,330-8173,yes,yes,37,258.600000,84,4...                                                                                                                                                                             \n",
       "10    IN,65,415,329-6603,no,no,0,129.100000,137,21.9...                                                                                                                                                                             \n",
       "11    RI,74,415,344-9403,no,no,0,187.700000,127,31.9...                                                                                                                                                                             \n",
       "12    IA,168,408,363-1107,no,no,0,128.800000,96,21.9...                                                                                                                                                                             \n",
       "13    MT,95,510,394-8006,no,no,0,156.600000,88,26.62...                                                                                                                                                                             \n",
       "14    IA,62,415,366-9238,no,no,0,120.700000,70,20.52...                                                                                                                                                                             \n",
       "15    NY,161,415,351-7269,no,no,0,332.900000,67,56.5...                                                                                                                                                                             \n",
       "16    ID,85,408,350-8884,no,yes,27,196.400000,139,33...                                                                                                                                                                             \n",
       "17    VT,93,510,386-2923,no,no,0,190.700000,114,32.4...                                                                                                                                                                             \n",
       "18    VA,76,510,356-2992,no,yes,33,189.700000,66,32....                                                                                                                                                                             \n",
       "19    TX,73,415,373-2782,no,no,0,224.400000,90,38.15...                                                                                                                                                                             \n",
       "20    FL,147,415,396-5800,no,no,0,155.100000,117,26....                                                                                                                                                                             \n",
       "21    CO,77,408,393-7984,no,no,0,62.400000,89,10.610...                                                                                                                                                                             \n",
       "22    AZ,130,415,358-1958,no,no,0,183.000000,112,31....                                                                                                                                                                             \n",
       "23    SC,111,415,350-2565,no,no,0,110.400000,103,18....                                                                                                                                                                             \n",
       "24    VA,132,510,343-4696,no,no,0,81.100000,86,13.79...                                                                                                                                                                             \n",
       "25    NE,174,415,331-3698,no,no,0,124.300000,76,21.1...                                                                                                                                                                             \n",
       "26    WY,57,408,357-3817,no,yes,39,213.000000,115,36...                                                                                                                                                                             \n",
       "27    MT,54,408,418-6412,no,no,0,134.300000,73,22.83...                                                                                                                                                                             \n",
       "28    MO,20,415,353-2630,no,no,0,190.000000,109,32.3...                                                                                                                                                                             \n",
       "29    HI,49,510,410-7789,no,no,0,119.300000,117,20.2...                                                                                                                                                                             \n",
       "...                                                 ...                                                                                                                                                                             \n",
       "3303  WI,114,415,373-7308,no,yes,26,137.100000,88,23...                                                                                                                                                                             \n",
       "3304  IL,71,510,330-7137,yes,no,0,186.100000,114,31....                                                                                                                                                                             \n",
       "3305  IN,58,415,406-8445,no,yes,22,224.100000,127,38...                                                                                                                                                                             \n",
       "3306  AL,106,408,404-5283,no,yes,29,83.600000,131,14...                                                                                                                                                                             \n",
       "3307  OK,172,408,398-3632,no,no,0,203.900000,109,34....                                                                                                                                                                             \n",
       "3308  IA,45,415,399-5763,no,no,0,211.300000,87,35.92...                                                                                                                                                                             \n",
       "3309  VT,100,408,340-9449,yes,no,0,219.400000,112,37...                                                                                                                                                                             \n",
       "3310  NY,94,415,363-1123,no,no,0,190.400000,91,32.37...                                                                                                                                                                             \n",
       "3311  LA,128,415,361-2170,no,no,0,147.700000,94,25.1...                                                                                                                                                                             \n",
       "3312  SC,181,408,406-6304,no,no,0,229.900000,130,39....                                                                                                                                                                             \n",
       "3313  ID,127,408,392-5090,no,no,0,102.800000,128,17....                                                                                                                                                                             \n",
       "3314  MO,89,415,373-7713,no,no,0,178.700000,81,30.38...                                                                                                                                                                             \n",
       "3315  ME,149,415,392-1376,no,yes,18,148.500000,106,2...                                                                                                                                                                             \n",
       "3316  MS,103,510,390-6388,no,yes,29,164.100000,111,2...                                                                                                                                                                             \n",
       "3317  SD,163,415,379-7290,yes,no,0,197.200000,90,33....                                                                                                                                                                             \n",
       "3318  OK,52,415,397-9928,no,no,0,124.900000,131,21.2...                                                                                                                                                                             \n",
       "3319  WY,89,415,378-6924,no,no,0,115.400000,99,19.62...                                                                                                                                                                             \n",
       "3320  GA,122,510,411-5677,yes,no,0,140.000000,101,23...                                                                                                                                                                             \n",
       "3321  VT,60,415,400-2738,no,no,0,193.900000,118,32.9...                                                                                                                                                                             \n",
       "3322  MD,62,408,409-1856,no,no,0,321.100000,105,54.5...                                                                                                                                                                             \n",
       "3323  IN,117,415,362-5899,no,no,0,118.400000,126,20....                                                                                                                                                                             \n",
       "3324  WV,159,415,377-1164,no,no,0,169.800000,114,28....                                                                                                                                                                             \n",
       "3325  OH,78,408,368-8555,no,no,0,193.400000,99,32.88...                                                                                                                                                                             \n",
       "3326  OH,96,415,347-6812,no,no,0,106.600000,128,18.1...                                                                                                                                                                             \n",
       "3327  SC,79,415,348-3830,no,no,0,134.700000,98,22.90...                                                                                                                                                                             \n",
       "3328  AZ,192,415,414-4276,no,yes,36,156.200000,77,26...                                                                                                                                                                             \n",
       "3329  WV,68,415,370-3271,no,no,0,231.100000,57,39.29...                                                                                                                                                                             \n",
       "3330  RI,28,510,328-8230,no,no,0,180.800000,109,30.7...                                                                                                                                                                             \n",
       "3331  CT,184,510,364-6381,yes,no,0,213.800000,105,36...                                                                                                                                                                             \n",
       "3332  TN,74,415,400-4344,no,yes,25,234.400000,113,39...                                                                                                                                                                             \n",
       "\n",
       "[3333 rows x 1 columns]"
      ]
     },
     "execution_count": 44,
     "metadata": {},
     "output_type": "execute_result"
    }
   ],
   "source": [
    "df1"
   ]
  },
  {
   "cell_type": "code",
   "execution_count": 45,
   "metadata": {
    "ExecuteTime": {
     "end_time": "2019-05-27T19:44:24.456533Z",
     "start_time": "2019-05-27T19:44:24.363473Z"
    }
   },
   "outputs": [
    {
     "name": "stderr",
     "output_type": "stream",
     "text": [
      "C:\\Users\\jaldoj\\AppData\\Local\\Continuum\\anaconda3\\envs\\cursoML\\lib\\site-packages\\ipykernel_launcher.py:1: ParserWarning: Falling back to the 'python' engine because the 'c' engine does not support regex separators (separators > 1 char and different from '\\s+' are interpreted as regex); you can avoid this warning by specifying engine='python'.\n",
      "  \"\"\"Entry point for launching an IPython kernel.\n"
     ]
    }
   ],
   "source": [
    "df1=pd.read_csv(outfile2,sep='\"\"')"
   ]
  },
  {
   "cell_type": "code",
   "execution_count": 46,
   "metadata": {
    "ExecuteTime": {
     "end_time": "2019-05-27T19:44:51.224781Z",
     "start_time": "2019-05-27T19:44:51.218777Z"
    }
   },
   "outputs": [
    {
     "ename": "SyntaxError",
     "evalue": "can't assign to function call (<ipython-input-46-703d8e96da05>, line 1)",
     "output_type": "error",
     "traceback": [
      "\u001b[1;36m  File \u001b[1;32m\"<ipython-input-46-703d8e96da05>\"\u001b[1;36m, line \u001b[1;32m1\u001b[0m\n\u001b[1;33m    df1=pd.read_csv(outfile2,sep='\"\"'),engine='python'\u001b[0m\n\u001b[1;37m       ^\u001b[0m\n\u001b[1;31mSyntaxError\u001b[0m\u001b[1;31m:\u001b[0m can't assign to function call\n"
     ]
    }
   ],
   "source": [
    "df1=pd.read_csv(outfile2,sep='\"\"'),engine='python'"
   ]
  },
  {
   "cell_type": "code",
   "execution_count": 47,
   "metadata": {
    "ExecuteTime": {
     "end_time": "2019-05-27T19:45:07.352543Z",
     "start_time": "2019-05-27T19:45:07.331526Z"
    }
   },
   "outputs": [],
   "source": [
    "df1=pd.read_csv(outfile2,sep='\"\"',engine='python')"
   ]
  },
  {
   "cell_type": "code",
   "execution_count": 48,
   "metadata": {
    "ExecuteTime": {
     "end_time": "2019-05-27T19:45:19.899107Z",
     "start_time": "2019-05-27T19:45:19.883097Z"
    }
   },
   "outputs": [
    {
     "data": {
      "text/html": [
       "<div>\n",
       "<style scoped>\n",
       "    .dataframe tbody tr th:only-of-type {\n",
       "        vertical-align: middle;\n",
       "    }\n",
       "\n",
       "    .dataframe tbody tr th {\n",
       "        vertical-align: top;\n",
       "    }\n",
       "\n",
       "    .dataframe thead th {\n",
       "        text-align: right;\n",
       "    }\n",
       "</style>\n",
       "<table border=\"1\" class=\"dataframe\">\n",
       "  <thead>\n",
       "    <tr style=\"text-align: right;\">\n",
       "      <th></th>\n",
       "      <th>\"State,Account Length,Area Code,Phone,Int'l Plan,VMail Plan,VMail Message,Day Mins,Day Calls,Day Charge,Eve Mins,Eve Calls,Eve Charge,Night Mins,Night Calls,Night Charge,Intl Mins,Intl Calls,Intl Charge,CustServ Calls,Churn?\"</th>\n",
       "    </tr>\n",
       "  </thead>\n",
       "  <tbody>\n",
       "    <tr>\n",
       "      <th>0</th>\n",
       "      <td>\"KS,128,415,382-4657,no,yes,25,265.100000,110,...</td>\n",
       "    </tr>\n",
       "    <tr>\n",
       "      <th>1</th>\n",
       "      <td>\"OH,107,415,371-7191,no,yes,26,161.600000,123,...</td>\n",
       "    </tr>\n",
       "    <tr>\n",
       "      <th>2</th>\n",
       "      <td>\"NJ,137,415,358-1921,no,no,0,243.400000,114,41...</td>\n",
       "    </tr>\n",
       "    <tr>\n",
       "      <th>3</th>\n",
       "      <td>\"OH,84,408,375-9999,yes,no,0,299.400000,71,50....</td>\n",
       "    </tr>\n",
       "    <tr>\n",
       "      <th>4</th>\n",
       "      <td>\"OK,75,415,330-6626,yes,no,0,166.700000,113,28...</td>\n",
       "    </tr>\n",
       "    <tr>\n",
       "      <th>5</th>\n",
       "      <td>\"AL,118,510,391-8027,yes,no,0,223.400000,98,37...</td>\n",
       "    </tr>\n",
       "    <tr>\n",
       "      <th>6</th>\n",
       "      <td>\"MA,121,510,355-9993,no,yes,24,218.200000,88,3...</td>\n",
       "    </tr>\n",
       "    <tr>\n",
       "      <th>7</th>\n",
       "      <td>\"MO,147,415,329-9001,yes,no,0,157.000000,79,26...</td>\n",
       "    </tr>\n",
       "    <tr>\n",
       "      <th>8</th>\n",
       "      <td>\"LA,117,408,335-4719,no,no,0,184.500000,97,31....</td>\n",
       "    </tr>\n",
       "    <tr>\n",
       "      <th>9</th>\n",
       "      <td>\"WV,141,415,330-8173,yes,yes,37,258.600000,84,...</td>\n",
       "    </tr>\n",
       "    <tr>\n",
       "      <th>10</th>\n",
       "      <td>\"IN,65,415,329-6603,no,no,0,129.100000,137,21....</td>\n",
       "    </tr>\n",
       "    <tr>\n",
       "      <th>11</th>\n",
       "      <td>\"RI,74,415,344-9403,no,no,0,187.700000,127,31....</td>\n",
       "    </tr>\n",
       "    <tr>\n",
       "      <th>12</th>\n",
       "      <td>\"IA,168,408,363-1107,no,no,0,128.800000,96,21....</td>\n",
       "    </tr>\n",
       "    <tr>\n",
       "      <th>13</th>\n",
       "      <td>\"MT,95,510,394-8006,no,no,0,156.600000,88,26.6...</td>\n",
       "    </tr>\n",
       "    <tr>\n",
       "      <th>14</th>\n",
       "      <td>\"IA,62,415,366-9238,no,no,0,120.700000,70,20.5...</td>\n",
       "    </tr>\n",
       "    <tr>\n",
       "      <th>15</th>\n",
       "      <td>\"NY,161,415,351-7269,no,no,0,332.900000,67,56....</td>\n",
       "    </tr>\n",
       "    <tr>\n",
       "      <th>16</th>\n",
       "      <td>\"ID,85,408,350-8884,no,yes,27,196.400000,139,3...</td>\n",
       "    </tr>\n",
       "    <tr>\n",
       "      <th>17</th>\n",
       "      <td>\"VT,93,510,386-2923,no,no,0,190.700000,114,32....</td>\n",
       "    </tr>\n",
       "    <tr>\n",
       "      <th>18</th>\n",
       "      <td>\"VA,76,510,356-2992,no,yes,33,189.700000,66,32...</td>\n",
       "    </tr>\n",
       "    <tr>\n",
       "      <th>19</th>\n",
       "      <td>\"TX,73,415,373-2782,no,no,0,224.400000,90,38.1...</td>\n",
       "    </tr>\n",
       "    <tr>\n",
       "      <th>20</th>\n",
       "      <td>\"FL,147,415,396-5800,no,no,0,155.100000,117,26...</td>\n",
       "    </tr>\n",
       "    <tr>\n",
       "      <th>21</th>\n",
       "      <td>\"CO,77,408,393-7984,no,no,0,62.400000,89,10.61...</td>\n",
       "    </tr>\n",
       "    <tr>\n",
       "      <th>22</th>\n",
       "      <td>\"AZ,130,415,358-1958,no,no,0,183.000000,112,31...</td>\n",
       "    </tr>\n",
       "    <tr>\n",
       "      <th>23</th>\n",
       "      <td>\"SC,111,415,350-2565,no,no,0,110.400000,103,18...</td>\n",
       "    </tr>\n",
       "    <tr>\n",
       "      <th>24</th>\n",
       "      <td>\"VA,132,510,343-4696,no,no,0,81.100000,86,13.7...</td>\n",
       "    </tr>\n",
       "    <tr>\n",
       "      <th>25</th>\n",
       "      <td>\"NE,174,415,331-3698,no,no,0,124.300000,76,21....</td>\n",
       "    </tr>\n",
       "    <tr>\n",
       "      <th>26</th>\n",
       "      <td>\"WY,57,408,357-3817,no,yes,39,213.000000,115,3...</td>\n",
       "    </tr>\n",
       "    <tr>\n",
       "      <th>27</th>\n",
       "      <td>\"MT,54,408,418-6412,no,no,0,134.300000,73,22.8...</td>\n",
       "    </tr>\n",
       "    <tr>\n",
       "      <th>28</th>\n",
       "      <td>\"MO,20,415,353-2630,no,no,0,190.000000,109,32....</td>\n",
       "    </tr>\n",
       "    <tr>\n",
       "      <th>29</th>\n",
       "      <td>\"HI,49,510,410-7789,no,no,0,119.300000,117,20....</td>\n",
       "    </tr>\n",
       "    <tr>\n",
       "      <th>...</th>\n",
       "      <td>...</td>\n",
       "    </tr>\n",
       "    <tr>\n",
       "      <th>3303</th>\n",
       "      <td>\"WI,114,415,373-7308,no,yes,26,137.100000,88,2...</td>\n",
       "    </tr>\n",
       "    <tr>\n",
       "      <th>3304</th>\n",
       "      <td>\"IL,71,510,330-7137,yes,no,0,186.100000,114,31...</td>\n",
       "    </tr>\n",
       "    <tr>\n",
       "      <th>3305</th>\n",
       "      <td>\"IN,58,415,406-8445,no,yes,22,224.100000,127,3...</td>\n",
       "    </tr>\n",
       "    <tr>\n",
       "      <th>3306</th>\n",
       "      <td>\"AL,106,408,404-5283,no,yes,29,83.600000,131,1...</td>\n",
       "    </tr>\n",
       "    <tr>\n",
       "      <th>3307</th>\n",
       "      <td>\"OK,172,408,398-3632,no,no,0,203.900000,109,34...</td>\n",
       "    </tr>\n",
       "    <tr>\n",
       "      <th>3308</th>\n",
       "      <td>\"IA,45,415,399-5763,no,no,0,211.300000,87,35.9...</td>\n",
       "    </tr>\n",
       "    <tr>\n",
       "      <th>3309</th>\n",
       "      <td>\"VT,100,408,340-9449,yes,no,0,219.400000,112,3...</td>\n",
       "    </tr>\n",
       "    <tr>\n",
       "      <th>3310</th>\n",
       "      <td>\"NY,94,415,363-1123,no,no,0,190.400000,91,32.3...</td>\n",
       "    </tr>\n",
       "    <tr>\n",
       "      <th>3311</th>\n",
       "      <td>\"LA,128,415,361-2170,no,no,0,147.700000,94,25....</td>\n",
       "    </tr>\n",
       "    <tr>\n",
       "      <th>3312</th>\n",
       "      <td>\"SC,181,408,406-6304,no,no,0,229.900000,130,39...</td>\n",
       "    </tr>\n",
       "    <tr>\n",
       "      <th>3313</th>\n",
       "      <td>\"ID,127,408,392-5090,no,no,0,102.800000,128,17...</td>\n",
       "    </tr>\n",
       "    <tr>\n",
       "      <th>3314</th>\n",
       "      <td>\"MO,89,415,373-7713,no,no,0,178.700000,81,30.3...</td>\n",
       "    </tr>\n",
       "    <tr>\n",
       "      <th>3315</th>\n",
       "      <td>\"ME,149,415,392-1376,no,yes,18,148.500000,106,...</td>\n",
       "    </tr>\n",
       "    <tr>\n",
       "      <th>3316</th>\n",
       "      <td>\"MS,103,510,390-6388,no,yes,29,164.100000,111,...</td>\n",
       "    </tr>\n",
       "    <tr>\n",
       "      <th>3317</th>\n",
       "      <td>\"SD,163,415,379-7290,yes,no,0,197.200000,90,33...</td>\n",
       "    </tr>\n",
       "    <tr>\n",
       "      <th>3318</th>\n",
       "      <td>\"OK,52,415,397-9928,no,no,0,124.900000,131,21....</td>\n",
       "    </tr>\n",
       "    <tr>\n",
       "      <th>3319</th>\n",
       "      <td>\"WY,89,415,378-6924,no,no,0,115.400000,99,19.6...</td>\n",
       "    </tr>\n",
       "    <tr>\n",
       "      <th>3320</th>\n",
       "      <td>\"GA,122,510,411-5677,yes,no,0,140.000000,101,2...</td>\n",
       "    </tr>\n",
       "    <tr>\n",
       "      <th>3321</th>\n",
       "      <td>\"VT,60,415,400-2738,no,no,0,193.900000,118,32....</td>\n",
       "    </tr>\n",
       "    <tr>\n",
       "      <th>3322</th>\n",
       "      <td>\"MD,62,408,409-1856,no,no,0,321.100000,105,54....</td>\n",
       "    </tr>\n",
       "    <tr>\n",
       "      <th>3323</th>\n",
       "      <td>\"IN,117,415,362-5899,no,no,0,118.400000,126,20...</td>\n",
       "    </tr>\n",
       "    <tr>\n",
       "      <th>3324</th>\n",
       "      <td>\"WV,159,415,377-1164,no,no,0,169.800000,114,28...</td>\n",
       "    </tr>\n",
       "    <tr>\n",
       "      <th>3325</th>\n",
       "      <td>\"OH,78,408,368-8555,no,no,0,193.400000,99,32.8...</td>\n",
       "    </tr>\n",
       "    <tr>\n",
       "      <th>3326</th>\n",
       "      <td>\"OH,96,415,347-6812,no,no,0,106.600000,128,18....</td>\n",
       "    </tr>\n",
       "    <tr>\n",
       "      <th>3327</th>\n",
       "      <td>\"SC,79,415,348-3830,no,no,0,134.700000,98,22.9...</td>\n",
       "    </tr>\n",
       "    <tr>\n",
       "      <th>3328</th>\n",
       "      <td>\"AZ,192,415,414-4276,no,yes,36,156.200000,77,2...</td>\n",
       "    </tr>\n",
       "    <tr>\n",
       "      <th>3329</th>\n",
       "      <td>\"WV,68,415,370-3271,no,no,0,231.100000,57,39.2...</td>\n",
       "    </tr>\n",
       "    <tr>\n",
       "      <th>3330</th>\n",
       "      <td>\"RI,28,510,328-8230,no,no,0,180.800000,109,30....</td>\n",
       "    </tr>\n",
       "    <tr>\n",
       "      <th>3331</th>\n",
       "      <td>\"CT,184,510,364-6381,yes,no,0,213.800000,105,3...</td>\n",
       "    </tr>\n",
       "    <tr>\n",
       "      <th>3332</th>\n",
       "      <td>\"TN,74,415,400-4344,no,yes,25,234.400000,113,3...</td>\n",
       "    </tr>\n",
       "  </tbody>\n",
       "</table>\n",
       "<p>3333 rows × 1 columns</p>\n",
       "</div>"
      ],
      "text/plain": [
       "     \"State,Account Length,Area Code,Phone,Int'l Plan,VMail Plan,VMail Message,Day Mins,Day Calls,Day Charge,Eve Mins,Eve Calls,Eve Charge,Night Mins,Night Calls,Night Charge,Intl Mins,Intl Calls,Intl Charge,CustServ Calls,Churn?\"\n",
       "0     \"KS,128,415,382-4657,no,yes,25,265.100000,110,...                                                                                                                                                                               \n",
       "1     \"OH,107,415,371-7191,no,yes,26,161.600000,123,...                                                                                                                                                                               \n",
       "2     \"NJ,137,415,358-1921,no,no,0,243.400000,114,41...                                                                                                                                                                               \n",
       "3     \"OH,84,408,375-9999,yes,no,0,299.400000,71,50....                                                                                                                                                                               \n",
       "4     \"OK,75,415,330-6626,yes,no,0,166.700000,113,28...                                                                                                                                                                               \n",
       "5     \"AL,118,510,391-8027,yes,no,0,223.400000,98,37...                                                                                                                                                                               \n",
       "6     \"MA,121,510,355-9993,no,yes,24,218.200000,88,3...                                                                                                                                                                               \n",
       "7     \"MO,147,415,329-9001,yes,no,0,157.000000,79,26...                                                                                                                                                                               \n",
       "8     \"LA,117,408,335-4719,no,no,0,184.500000,97,31....                                                                                                                                                                               \n",
       "9     \"WV,141,415,330-8173,yes,yes,37,258.600000,84,...                                                                                                                                                                               \n",
       "10    \"IN,65,415,329-6603,no,no,0,129.100000,137,21....                                                                                                                                                                               \n",
       "11    \"RI,74,415,344-9403,no,no,0,187.700000,127,31....                                                                                                                                                                               \n",
       "12    \"IA,168,408,363-1107,no,no,0,128.800000,96,21....                                                                                                                                                                               \n",
       "13    \"MT,95,510,394-8006,no,no,0,156.600000,88,26.6...                                                                                                                                                                               \n",
       "14    \"IA,62,415,366-9238,no,no,0,120.700000,70,20.5...                                                                                                                                                                               \n",
       "15    \"NY,161,415,351-7269,no,no,0,332.900000,67,56....                                                                                                                                                                               \n",
       "16    \"ID,85,408,350-8884,no,yes,27,196.400000,139,3...                                                                                                                                                                               \n",
       "17    \"VT,93,510,386-2923,no,no,0,190.700000,114,32....                                                                                                                                                                               \n",
       "18    \"VA,76,510,356-2992,no,yes,33,189.700000,66,32...                                                                                                                                                                               \n",
       "19    \"TX,73,415,373-2782,no,no,0,224.400000,90,38.1...                                                                                                                                                                               \n",
       "20    \"FL,147,415,396-5800,no,no,0,155.100000,117,26...                                                                                                                                                                               \n",
       "21    \"CO,77,408,393-7984,no,no,0,62.400000,89,10.61...                                                                                                                                                                               \n",
       "22    \"AZ,130,415,358-1958,no,no,0,183.000000,112,31...                                                                                                                                                                               \n",
       "23    \"SC,111,415,350-2565,no,no,0,110.400000,103,18...                                                                                                                                                                               \n",
       "24    \"VA,132,510,343-4696,no,no,0,81.100000,86,13.7...                                                                                                                                                                               \n",
       "25    \"NE,174,415,331-3698,no,no,0,124.300000,76,21....                                                                                                                                                                               \n",
       "26    \"WY,57,408,357-3817,no,yes,39,213.000000,115,3...                                                                                                                                                                               \n",
       "27    \"MT,54,408,418-6412,no,no,0,134.300000,73,22.8...                                                                                                                                                                               \n",
       "28    \"MO,20,415,353-2630,no,no,0,190.000000,109,32....                                                                                                                                                                               \n",
       "29    \"HI,49,510,410-7789,no,no,0,119.300000,117,20....                                                                                                                                                                               \n",
       "...                                                 ...                                                                                                                                                                               \n",
       "3303  \"WI,114,415,373-7308,no,yes,26,137.100000,88,2...                                                                                                                                                                               \n",
       "3304  \"IL,71,510,330-7137,yes,no,0,186.100000,114,31...                                                                                                                                                                               \n",
       "3305  \"IN,58,415,406-8445,no,yes,22,224.100000,127,3...                                                                                                                                                                               \n",
       "3306  \"AL,106,408,404-5283,no,yes,29,83.600000,131,1...                                                                                                                                                                               \n",
       "3307  \"OK,172,408,398-3632,no,no,0,203.900000,109,34...                                                                                                                                                                               \n",
       "3308  \"IA,45,415,399-5763,no,no,0,211.300000,87,35.9...                                                                                                                                                                               \n",
       "3309  \"VT,100,408,340-9449,yes,no,0,219.400000,112,3...                                                                                                                                                                               \n",
       "3310  \"NY,94,415,363-1123,no,no,0,190.400000,91,32.3...                                                                                                                                                                               \n",
       "3311  \"LA,128,415,361-2170,no,no,0,147.700000,94,25....                                                                                                                                                                               \n",
       "3312  \"SC,181,408,406-6304,no,no,0,229.900000,130,39...                                                                                                                                                                               \n",
       "3313  \"ID,127,408,392-5090,no,no,0,102.800000,128,17...                                                                                                                                                                               \n",
       "3314  \"MO,89,415,373-7713,no,no,0,178.700000,81,30.3...                                                                                                                                                                               \n",
       "3315  \"ME,149,415,392-1376,no,yes,18,148.500000,106,...                                                                                                                                                                               \n",
       "3316  \"MS,103,510,390-6388,no,yes,29,164.100000,111,...                                                                                                                                                                               \n",
       "3317  \"SD,163,415,379-7290,yes,no,0,197.200000,90,33...                                                                                                                                                                               \n",
       "3318  \"OK,52,415,397-9928,no,no,0,124.900000,131,21....                                                                                                                                                                               \n",
       "3319  \"WY,89,415,378-6924,no,no,0,115.400000,99,19.6...                                                                                                                                                                               \n",
       "3320  \"GA,122,510,411-5677,yes,no,0,140.000000,101,2...                                                                                                                                                                               \n",
       "3321  \"VT,60,415,400-2738,no,no,0,193.900000,118,32....                                                                                                                                                                               \n",
       "3322  \"MD,62,408,409-1856,no,no,0,321.100000,105,54....                                                                                                                                                                               \n",
       "3323  \"IN,117,415,362-5899,no,no,0,118.400000,126,20...                                                                                                                                                                               \n",
       "3324  \"WV,159,415,377-1164,no,no,0,169.800000,114,28...                                                                                                                                                                               \n",
       "3325  \"OH,78,408,368-8555,no,no,0,193.400000,99,32.8...                                                                                                                                                                               \n",
       "3326  \"OH,96,415,347-6812,no,no,0,106.600000,128,18....                                                                                                                                                                               \n",
       "3327  \"SC,79,415,348-3830,no,no,0,134.700000,98,22.9...                                                                                                                                                                               \n",
       "3328  \"AZ,192,415,414-4276,no,yes,36,156.200000,77,2...                                                                                                                                                                               \n",
       "3329  \"WV,68,415,370-3271,no,no,0,231.100000,57,39.2...                                                                                                                                                                               \n",
       "3330  \"RI,28,510,328-8230,no,no,0,180.800000,109,30....                                                                                                                                                                               \n",
       "3331  \"CT,184,510,364-6381,yes,no,0,213.800000,105,3...                                                                                                                                                                               \n",
       "3332  \"TN,74,415,400-4344,no,yes,25,234.400000,113,3...                                                                                                                                                                               \n",
       "\n",
       "[3333 rows x 1 columns]"
      ]
     },
     "execution_count": 48,
     "metadata": {},
     "output_type": "execute_result"
    }
   ],
   "source": [
    "df1"
   ]
  },
  {
   "cell_type": "code",
   "execution_count": null,
   "metadata": {},
   "outputs": [],
   "source": []
  }
 ],
 "metadata": {
  "kernelspec": {
   "display_name": "Python 3",
   "language": "python",
   "name": "python3"
  },
  "language_info": {
   "codemirror_mode": {
    "name": "ipython",
    "version": 3
   },
   "file_extension": ".py",
   "mimetype": "text/x-python",
   "name": "python",
   "nbconvert_exporter": "python",
   "pygments_lexer": "ipython3",
   "version": "3.7.1"
  }
 },
 "nbformat": 4,
 "nbformat_minor": 2
}
